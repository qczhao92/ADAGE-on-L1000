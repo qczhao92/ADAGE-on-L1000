{
  "nbformat": 4,
  "nbformat_minor": 0,
  "metadata": {
    "colab": {
      "name": "ADAGE Project Model implementation.ipynb",
      "provenance": [],
      "collapsed_sections": [],
      "toc_visible": true,
      "include_colab_link": true
    },
    "kernelspec": {
      "display_name": "Python 3",
      "name": "python3"
    }
  },
  "cells": [
    {
      "cell_type": "markdown",
      "metadata": {
        "id": "view-in-github",
        "colab_type": "text"
      },
      "source": [
        "<a href=\"https://colab.research.google.com/github/qczhao92/ADAGE-on-L1000/blob/main/ADAGE_Project_Model_implementation.ipynb\" target=\"_parent\"><img src=\"https://colab.research.google.com/assets/colab-badge.svg\" alt=\"Open In Colab\"/></a>"
      ]
    },
    {
      "cell_type": "code",
      "metadata": {
        "colab": {
          "base_uri": "https://localhost:8080/"
        },
        "id": "SvFfTJ-Qvf-x",
        "outputId": "bfade7bd-7162-4f3a-8418-59d02a868295"
      },
      "source": [
        "colab = True\n",
        "# In case in Colab activate this cell by passing the corect path to the images\n",
        "if colab==True: \n",
        "    from google.colab import drive\n",
        "    drive.mount('/content/drive')\n",
        "    work_dir = 'drive/MyDrive/AIforGenomics2021/ADAGE'\n",
        "else:\n",
        "    work_dir = ''"
      ],
      "execution_count": null,
      "outputs": [
        {
          "output_type": "stream",
          "text": [
            "Mounted at /content/drive\n"
          ],
          "name": "stdout"
        }
      ]
    },
    {
      "cell_type": "code",
      "metadata": {
        "id": "nsKi3Q3viZ1A"
      },
      "source": [
        "import sys, os\n",
        "import time\n",
        "import numpy as np\n",
        "import pandas as pd\n",
        "import torch\n",
        "import torch.nn as nn\n",
        "import torch.optim as optim\n",
        "import torch.autograd as autograd\n",
        "from torch.autograd import Variable\n",
        "from torch.utils.data import Dataset, DataLoader\n",
        "from sklearn.metrics import r2_score\n",
        "\n",
        "import matplotlib\n",
        "matplotlib.use('Agg')\n",
        "import matplotlib.pyplot as plt\n",
        "\n",
        "# set the path of files\n",
        "l5data = \"/content/drive/MyDrive/AIforGenomics2021/ADAGE/GSE70138_Broad_LINCS_Level5_COMPZ_n118050x12328_2017-03-06.gctx\"\n",
        "gene_info_txt = \"/content/drive/MyDrive/AIforGenomics2021/ADAGE/GSE70138_Broad_LINCS_gene_info_2017-03-06.txt\"\n",
        "pert_info_txt = \"/content/drive/MyDrive/AIforGenomics2021/ADAGE/GSE70138_Broad_LINCS_pert_info.txt\"\n",
        "sig_info_txt = \"/content/drive/MyDrive/AIforGenomics2021/ADAGE/GSE70138_Broad_LINCS_sig_info_2017-03-06.txt\"\n",
        "cell_info_txt = \"/content/drive/MyDrive/AIforGenomics2021/ADAGE/GSE70138_Broad_LINCS_cell_info_2017-04-28.txt\""
      ],
      "execution_count": null,
      "outputs": []
    },
    {
      "cell_type": "markdown",
      "metadata": {
        "id": "Sfx7EK9de3V6"
      },
      "source": [
        "# 0. Download L1000 data\n",
        "download the 2 phase level 5 data to the working directory\n",
        "https://www.ncbi.nlm.nih.gov/geo/query/acc.cgi?acc=GSE70138"
      ]
    },
    {
      "cell_type": "code",
      "metadata": {
        "id": "Yx4YzYbdiMYx"
      },
      "source": [
        "from tqdm import *\n",
        "import os\n",
        "\n",
        "if not os.path.exists(work_dir):\n",
        "    os.system(f'mkdir -p {work_dir}')\n",
        "\n",
        "if not os.path.isfile(gene_info_txt):\n",
        "    gene_info_link ='ftp://ftp.ncbi.nlm.nih.gov/geo/series/GSE70nnn/GSE70138/suppl/GSE70138_Broad_LINCS_gene_info_2017-03-06.txt.gz'\n",
        "    os.system(f'wget -O {gene_info_txt}.gz {gene_info_link}')\n",
        "    os.system(f'gunzip {gene_info_txt}.gz')\n",
        "\n",
        "if not os.path.isfile(pert_info_txt):\n",
        "    pert_info_link ='ftp://ftp.ncbi.nlm.nih.gov/geo/series/GSE70nnn/GSE70138/suppl/GSE70138_Broad_LINCS_pert_info.txt.gz'\n",
        "    os.system(f'wget -O {pert_info_txt}.gz {pert_info_link}')\n",
        "    os.system(f'gunzip {pert_info_txt}.gz')\n",
        "\n",
        "if not os.path.isfile(sig_info_txt):\n",
        "    sig_info_link ='ftp://ftp.ncbi.nlm.nih.gov/geo/series/GSE70nnn/GSE70138/suppl/GSE70138_Broad_LINCS_sig_info_2017-03-06.txt.gz'\n",
        "    os.system(f'wget -O {sig_info_txt}.gz {sig_info_link}')\n",
        "    os.system(f'gunzip {sig_info_txt}.gz')\n",
        "\n",
        "if not os.path.isfile(cell_info_txt):\n",
        "    cell_info_link ='ftp://ftp.ncbi.nlm.nih.gov/geo/series/GSE70nnn/GSE70138/suppl/GSE70138_Broad_LINCS_cell_info_2017-04-28.txt.gz'\n",
        "    os.system(f'wget -O {cell_info_txt}.gz {cell_info_link}')\n",
        "    os.system(f'gunzip {cell_info_txt}.gz')\n",
        "\n",
        "if not os.path.isfile(l5data):\n",
        "    if not os.path.isfile(f'{l5data}.gz'):\n",
        "        print('downloading L1000 level5 data... could take a while')\n",
        "        l5data_link ='ftp://ftp.ncbi.nlm.nih.gov/geo/series/GSE70nnn/GSE70138/suppl/GSE70138_Broad_LINCS_Level5_COMPZ_n118050x12328_2017-03-06.gctx.gz'\n",
        "        os.system(f'wget -O {l5data} {l5data_link}')\n",
        "    else:\n",
        "        print('Zipped L1000 level5 data exits!', f'starting unzip {l5data}.gz')\n",
        "    os.system(f'gunzip {l5data}.gz')"
      ],
      "execution_count": null,
      "outputs": []
    },
    {
      "cell_type": "code",
      "metadata": {
        "colab": {
          "base_uri": "https://localhost:8080/"
        },
        "id": "YxqzLriW4IN7",
        "outputId": "59ae0f96-e1cc-4800-d0f4-90d7cd99659d"
      },
      "source": [
        "!ls /content/drive/MyDrive/AIforGenomics2021/ADAGE -all"
      ],
      "execution_count": null,
      "outputs": [
        {
          "output_type": "stream",
          "text": [
            "total 5999957\n",
            "-rw------- 1 root root  276119388 Mar 11 22:15  A549_full_gene_expression.csv\n",
            "-rw------- 1 root root   21735820 Mar  8 19:16  A549_landmark_expression.csv\n",
            "-rw------- 1 root root      11850 Mar  1 18:07  GSE70138_Broad_LINCS_cell_info_2017-04-28.txt\n",
            "-rw------- 1 root root     621887 Mar  1 18:07  GSE70138_Broad_LINCS_gene_info_2017-03-06.txt\n",
            "-rw------- 1 root root 5824120558 Mar  1 18:07  GSE70138_Broad_LINCS_Level5_COMPZ_n118050x12328_2017-03-06.gctx\n",
            "-rw------- 1 root root     219965 Mar  1 18:07  GSE70138_Broad_LINCS_pert_info.txt\n",
            "-rw------- 1 root root   18260895 Mar  1 18:07  GSE70138_Broad_LINCS_sig_info_2017-03-06.txt\n",
            "-rw------- 1 root root     392615 Mar 11 19:04  string_normal_image.png\n",
            "drwx------ 2 root root       4096 Mar  6 21:02  trained_model\n",
            "-rw------- 1 root root    2466424 Mar 11 22:21 'weight matrices after training'\n"
          ],
          "name": "stdout"
        }
      ]
    },
    {
      "cell_type": "markdown",
      "metadata": {
        "id": "QpQqeTSGgLFf"
      },
      "source": [
        "## take a look of the information files"
      ]
    },
    {
      "cell_type": "code",
      "metadata": {
        "colab": {
          "base_uri": "https://localhost:8080/",
          "height": 221
        },
        "id": "ypRszBXftZr1",
        "outputId": "ff9a9ca9-e94f-4c81-96e8-ff167e0622c7"
      },
      "source": [
        "import pandas as pd\n",
        "\n",
        "gene_info = pd.read_csv(gene_info_txt, sep = '\\t')\n",
        "print(gene_info.shape)\n",
        "gene_info.head()\n"
      ],
      "execution_count": null,
      "outputs": [
        {
          "output_type": "stream",
          "text": [
            "(12328, 5)\n"
          ],
          "name": "stdout"
        },
        {
          "output_type": "execute_result",
          "data": {
            "text/html": [
              "<div>\n",
              "<style scoped>\n",
              "    .dataframe tbody tr th:only-of-type {\n",
              "        vertical-align: middle;\n",
              "    }\n",
              "\n",
              "    .dataframe tbody tr th {\n",
              "        vertical-align: top;\n",
              "    }\n",
              "\n",
              "    .dataframe thead th {\n",
              "        text-align: right;\n",
              "    }\n",
              "</style>\n",
              "<table border=\"1\" class=\"dataframe\">\n",
              "  <thead>\n",
              "    <tr style=\"text-align: right;\">\n",
              "      <th></th>\n",
              "      <th>pr_gene_id</th>\n",
              "      <th>pr_gene_symbol</th>\n",
              "      <th>pr_gene_title</th>\n",
              "      <th>pr_is_lm</th>\n",
              "      <th>pr_is_bing</th>\n",
              "    </tr>\n",
              "  </thead>\n",
              "  <tbody>\n",
              "    <tr>\n",
              "      <th>0</th>\n",
              "      <td>780</td>\n",
              "      <td>DDR1</td>\n",
              "      <td>discoidin domain receptor tyrosine kinase 1</td>\n",
              "      <td>1</td>\n",
              "      <td>1</td>\n",
              "    </tr>\n",
              "    <tr>\n",
              "      <th>1</th>\n",
              "      <td>7849</td>\n",
              "      <td>PAX8</td>\n",
              "      <td>paired box 8</td>\n",
              "      <td>1</td>\n",
              "      <td>1</td>\n",
              "    </tr>\n",
              "    <tr>\n",
              "      <th>2</th>\n",
              "      <td>2978</td>\n",
              "      <td>GUCA1A</td>\n",
              "      <td>guanylate cyclase activator 1A</td>\n",
              "      <td>0</td>\n",
              "      <td>0</td>\n",
              "    </tr>\n",
              "    <tr>\n",
              "      <th>3</th>\n",
              "      <td>2049</td>\n",
              "      <td>EPHB3</td>\n",
              "      <td>EPH receptor B3</td>\n",
              "      <td>0</td>\n",
              "      <td>1</td>\n",
              "    </tr>\n",
              "    <tr>\n",
              "      <th>4</th>\n",
              "      <td>2101</td>\n",
              "      <td>ESRRA</td>\n",
              "      <td>estrogen related receptor alpha</td>\n",
              "      <td>0</td>\n",
              "      <td>1</td>\n",
              "    </tr>\n",
              "  </tbody>\n",
              "</table>\n",
              "</div>"
            ],
            "text/plain": [
              "   pr_gene_id pr_gene_symbol  ... pr_is_lm  pr_is_bing\n",
              "0         780           DDR1  ...        1           1\n",
              "1        7849           PAX8  ...        1           1\n",
              "2        2978         GUCA1A  ...        0           0\n",
              "3        2049          EPHB3  ...        0           1\n",
              "4        2101          ESRRA  ...        0           1\n",
              "\n",
              "[5 rows x 5 columns]"
            ]
          },
          "metadata": {
            "tags": []
          },
          "execution_count": 3
        }
      ]
    },
    {
      "cell_type": "code",
      "metadata": {
        "colab": {
          "base_uri": "https://localhost:8080/",
          "height": 360
        },
        "id": "t3JgACdPgIFC",
        "outputId": "6ff1c923-c521-45cb-c1dc-fdb67efee681"
      },
      "source": [
        "pert_info = pd.read_csv(pert_info_txt, sep = '\\t')\n",
        "print(pert_info.shape)\n",
        "pert_info.head()"
      ],
      "execution_count": null,
      "outputs": [
        {
          "output_type": "stream",
          "text": [
            "(2170, 5)\n"
          ],
          "name": "stdout"
        },
        {
          "output_type": "execute_result",
          "data": {
            "text/html": [
              "<div>\n",
              "<style scoped>\n",
              "    .dataframe tbody tr th:only-of-type {\n",
              "        vertical-align: middle;\n",
              "    }\n",
              "\n",
              "    .dataframe tbody tr th {\n",
              "        vertical-align: top;\n",
              "    }\n",
              "\n",
              "    .dataframe thead th {\n",
              "        text-align: right;\n",
              "    }\n",
              "</style>\n",
              "<table border=\"1\" class=\"dataframe\">\n",
              "  <thead>\n",
              "    <tr style=\"text-align: right;\">\n",
              "      <th></th>\n",
              "      <th>pert_id</th>\n",
              "      <th>canonical_smiles</th>\n",
              "      <th>inchi_key</th>\n",
              "      <th>pert_iname</th>\n",
              "      <th>pert_type</th>\n",
              "    </tr>\n",
              "  </thead>\n",
              "  <tbody>\n",
              "    <tr>\n",
              "      <th>0</th>\n",
              "      <td>BRD-K70792160</td>\n",
              "      <td>CCN(CC)CCCCN1c2ccccc2Oc2ccc(Cl)cc12</td>\n",
              "      <td>GYBXAGDWMCJZJK-UHFFFAOYSA-N</td>\n",
              "      <td>10-DEBC</td>\n",
              "      <td>trt_cp</td>\n",
              "    </tr>\n",
              "    <tr>\n",
              "      <th>1</th>\n",
              "      <td>BRD-K68552125</td>\n",
              "      <td>CCCCCCCCCCCCCC(=O)O[C@@H]1[C@@H](C)[C@]2(O)[C@...</td>\n",
              "      <td>PHEDXBVPIONUQT-RGYGYFBISA-N</td>\n",
              "      <td>phorbol-myristate-acetate</td>\n",
              "      <td>trt_cp</td>\n",
              "    </tr>\n",
              "    <tr>\n",
              "      <th>2</th>\n",
              "      <td>BRD-K92301463</td>\n",
              "      <td>CCCCC(C)(C)[C@H](O)\\C=C\\[C@H]1[C@H](O)CC(=O)[C...</td>\n",
              "      <td>QAOBBBBDJSWHMU-WMBBNPMCSA-N</td>\n",
              "      <td>16,16-dimethylprostaglandin-e2</td>\n",
              "      <td>trt_cp</td>\n",
              "    </tr>\n",
              "    <tr>\n",
              "      <th>3</th>\n",
              "      <td>BRD-A29731977</td>\n",
              "      <td>CCCCCC(=O)O[C@@]1(CCC2C3CCC4=CC(=O)CC[C@]4(C)C...</td>\n",
              "      <td>DOMWKUIIPQCAJU-JKPPDDDBSA-N</td>\n",
              "      <td>17-hydroxyprogesterone-caproate</td>\n",
              "      <td>trt_cp</td>\n",
              "    </tr>\n",
              "    <tr>\n",
              "      <th>4</th>\n",
              "      <td>BRD-K07954936</td>\n",
              "      <td>OC(=O)CCCC[C@@H]1SC[C@@H]2NC(=N)N[C@H]12</td>\n",
              "      <td>WWVANQJRLPIHNS-ZKWXMUAHSA-N</td>\n",
              "      <td>2-iminobiotin</td>\n",
              "      <td>trt_cp</td>\n",
              "    </tr>\n",
              "  </tbody>\n",
              "</table>\n",
              "</div>"
            ],
            "text/plain": [
              "         pert_id  ... pert_type\n",
              "0  BRD-K70792160  ...    trt_cp\n",
              "1  BRD-K68552125  ...    trt_cp\n",
              "2  BRD-K92301463  ...    trt_cp\n",
              "3  BRD-A29731977  ...    trt_cp\n",
              "4  BRD-K07954936  ...    trt_cp\n",
              "\n",
              "[5 rows x 5 columns]"
            ]
          },
          "metadata": {
            "tags": []
          },
          "execution_count": 4
        }
      ]
    },
    {
      "cell_type": "code",
      "metadata": {
        "colab": {
          "base_uri": "https://localhost:8080/",
          "height": 258
        },
        "id": "3VN3UTKN51fI",
        "outputId": "dc21accf-3a77-4b43-cb67-ff7defbc01d0"
      },
      "source": [
        "sig_info = pd.read_csv(sig_info_txt, sep = '\\t')\n",
        "print(sig_info.shape)\n",
        "sig_info.head()"
      ],
      "execution_count": null,
      "outputs": [
        {
          "output_type": "stream",
          "text": [
            "(118050, 8)\n"
          ],
          "name": "stdout"
        },
        {
          "output_type": "execute_result",
          "data": {
            "text/html": [
              "<div>\n",
              "<style scoped>\n",
              "    .dataframe tbody tr th:only-of-type {\n",
              "        vertical-align: middle;\n",
              "    }\n",
              "\n",
              "    .dataframe tbody tr th {\n",
              "        vertical-align: top;\n",
              "    }\n",
              "\n",
              "    .dataframe thead th {\n",
              "        text-align: right;\n",
              "    }\n",
              "</style>\n",
              "<table border=\"1\" class=\"dataframe\">\n",
              "  <thead>\n",
              "    <tr style=\"text-align: right;\">\n",
              "      <th></th>\n",
              "      <th>sig_id</th>\n",
              "      <th>pert_id</th>\n",
              "      <th>pert_iname</th>\n",
              "      <th>pert_type</th>\n",
              "      <th>cell_id</th>\n",
              "      <th>pert_idose</th>\n",
              "      <th>pert_itime</th>\n",
              "      <th>distil_id</th>\n",
              "    </tr>\n",
              "  </thead>\n",
              "  <tbody>\n",
              "    <tr>\n",
              "      <th>0</th>\n",
              "      <td>LJP005_A375_24H:A03</td>\n",
              "      <td>DMSO</td>\n",
              "      <td>DMSO</td>\n",
              "      <td>ctl_vehicle</td>\n",
              "      <td>A375</td>\n",
              "      <td>-666</td>\n",
              "      <td>24 h</td>\n",
              "      <td>LJP005_A375_24H_X1_B19:A03|LJP005_A375_24H_X2_...</td>\n",
              "    </tr>\n",
              "    <tr>\n",
              "      <th>1</th>\n",
              "      <td>LJP005_A375_24H:A04</td>\n",
              "      <td>DMSO</td>\n",
              "      <td>DMSO</td>\n",
              "      <td>ctl_vehicle</td>\n",
              "      <td>A375</td>\n",
              "      <td>-666</td>\n",
              "      <td>24 h</td>\n",
              "      <td>LJP005_A375_24H_X1_B19:A04|LJP005_A375_24H_X2_...</td>\n",
              "    </tr>\n",
              "    <tr>\n",
              "      <th>2</th>\n",
              "      <td>LJP005_A375_24H:A05</td>\n",
              "      <td>DMSO</td>\n",
              "      <td>DMSO</td>\n",
              "      <td>ctl_vehicle</td>\n",
              "      <td>A375</td>\n",
              "      <td>-666</td>\n",
              "      <td>24 h</td>\n",
              "      <td>LJP005_A375_24H_X1_B19:A05|LJP005_A375_24H_X2_...</td>\n",
              "    </tr>\n",
              "    <tr>\n",
              "      <th>3</th>\n",
              "      <td>LJP005_A375_24H:A06</td>\n",
              "      <td>DMSO</td>\n",
              "      <td>DMSO</td>\n",
              "      <td>ctl_vehicle</td>\n",
              "      <td>A375</td>\n",
              "      <td>-666</td>\n",
              "      <td>24 h</td>\n",
              "      <td>LJP005_A375_24H_X1_B19:A06|LJP005_A375_24H_X2_...</td>\n",
              "    </tr>\n",
              "    <tr>\n",
              "      <th>4</th>\n",
              "      <td>LJP005_A375_24H:A07</td>\n",
              "      <td>BRD-K76908866</td>\n",
              "      <td>CP-724714</td>\n",
              "      <td>trt_cp</td>\n",
              "      <td>A375</td>\n",
              "      <td>10.0 um</td>\n",
              "      <td>24 h</td>\n",
              "      <td>LJP005_A375_24H_X1_B19:A07|LJP005_A375_24H_X2_...</td>\n",
              "    </tr>\n",
              "  </tbody>\n",
              "</table>\n",
              "</div>"
            ],
            "text/plain": [
              "                sig_id  ...                                          distil_id\n",
              "0  LJP005_A375_24H:A03  ...  LJP005_A375_24H_X1_B19:A03|LJP005_A375_24H_X2_...\n",
              "1  LJP005_A375_24H:A04  ...  LJP005_A375_24H_X1_B19:A04|LJP005_A375_24H_X2_...\n",
              "2  LJP005_A375_24H:A05  ...  LJP005_A375_24H_X1_B19:A05|LJP005_A375_24H_X2_...\n",
              "3  LJP005_A375_24H:A06  ...  LJP005_A375_24H_X1_B19:A06|LJP005_A375_24H_X2_...\n",
              "4  LJP005_A375_24H:A07  ...  LJP005_A375_24H_X1_B19:A07|LJP005_A375_24H_X2_...\n",
              "\n",
              "[5 rows x 8 columns]"
            ]
          },
          "metadata": {
            "tags": []
          },
          "execution_count": 5
        }
      ]
    },
    {
      "cell_type": "markdown",
      "metadata": {
        "id": "V9z-FeX3dcCi"
      },
      "source": [
        "## load L1000 level 5 data (gctx)\n"
      ]
    },
    {
      "cell_type": "code",
      "metadata": {
        "colab": {
          "base_uri": "https://localhost:8080/",
          "height": 221
        },
        "id": "hzfnOjPgpMg1",
        "outputId": "f58cdbaf-b44d-4a75-8479-33dc5224c3cc"
      },
      "source": [
        "landmark_gene_list = gene_info[gene_info['pr_is_lm'] == 1].astype(str)\n",
        "print(landmark_gene_list.shape)\n",
        "landmark_gene_list.head()"
      ],
      "execution_count": null,
      "outputs": [
        {
          "output_type": "stream",
          "text": [
            "(978, 5)\n"
          ],
          "name": "stdout"
        },
        {
          "output_type": "execute_result",
          "data": {
            "text/html": [
              "<div>\n",
              "<style scoped>\n",
              "    .dataframe tbody tr th:only-of-type {\n",
              "        vertical-align: middle;\n",
              "    }\n",
              "\n",
              "    .dataframe tbody tr th {\n",
              "        vertical-align: top;\n",
              "    }\n",
              "\n",
              "    .dataframe thead th {\n",
              "        text-align: right;\n",
              "    }\n",
              "</style>\n",
              "<table border=\"1\" class=\"dataframe\">\n",
              "  <thead>\n",
              "    <tr style=\"text-align: right;\">\n",
              "      <th></th>\n",
              "      <th>pr_gene_id</th>\n",
              "      <th>pr_gene_symbol</th>\n",
              "      <th>pr_gene_title</th>\n",
              "      <th>pr_is_lm</th>\n",
              "      <th>pr_is_bing</th>\n",
              "    </tr>\n",
              "  </thead>\n",
              "  <tbody>\n",
              "    <tr>\n",
              "      <th>0</th>\n",
              "      <td>780</td>\n",
              "      <td>DDR1</td>\n",
              "      <td>discoidin domain receptor tyrosine kinase 1</td>\n",
              "      <td>1</td>\n",
              "      <td>1</td>\n",
              "    </tr>\n",
              "    <tr>\n",
              "      <th>1</th>\n",
              "      <td>7849</td>\n",
              "      <td>PAX8</td>\n",
              "      <td>paired box 8</td>\n",
              "      <td>1</td>\n",
              "      <td>1</td>\n",
              "    </tr>\n",
              "    <tr>\n",
              "      <th>25</th>\n",
              "      <td>6193</td>\n",
              "      <td>RPS5</td>\n",
              "      <td>ribosomal protein S5</td>\n",
              "      <td>1</td>\n",
              "      <td>1</td>\n",
              "    </tr>\n",
              "    <tr>\n",
              "      <th>43</th>\n",
              "      <td>23</td>\n",
              "      <td>ABCF1</td>\n",
              "      <td>ATP binding cassette subfamily F member 1</td>\n",
              "      <td>1</td>\n",
              "      <td>1</td>\n",
              "    </tr>\n",
              "    <tr>\n",
              "      <th>49</th>\n",
              "      <td>9552</td>\n",
              "      <td>SPAG7</td>\n",
              "      <td>sperm associated antigen 7</td>\n",
              "      <td>1</td>\n",
              "      <td>1</td>\n",
              "    </tr>\n",
              "  </tbody>\n",
              "</table>\n",
              "</div>"
            ],
            "text/plain": [
              "   pr_gene_id pr_gene_symbol  ... pr_is_lm pr_is_bing\n",
              "0         780           DDR1  ...        1          1\n",
              "1        7849           PAX8  ...        1          1\n",
              "25       6193           RPS5  ...        1          1\n",
              "43         23          ABCF1  ...        1          1\n",
              "49       9552          SPAG7  ...        1          1\n",
              "\n",
              "[5 rows x 5 columns]"
            ]
          },
          "metadata": {
            "tags": []
          },
          "execution_count": 6
        }
      ]
    },
    {
      "cell_type": "code",
      "metadata": {
        "colab": {
          "base_uri": "https://localhost:8080/"
        },
        "id": "7bx3z__YwPc3",
        "outputId": "fb14501c-1448-462d-e6dc-3a9f16d7c5b0"
      },
      "source": [
        "!pip install cmapPy"
      ],
      "execution_count": null,
      "outputs": [
        {
          "output_type": "stream",
          "text": [
            "Collecting cmapPy\n",
            "\u001b[?25l  Downloading https://files.pythonhosted.org/packages/e8/e1/9e90b0dc2051f4a3a2b9553b254889e93a2a3c7a3b925433c6298d99d596/cmapPy-4.0.1-py2.py3-none-any.whl (150kB)\n",
            "\u001b[K     |████████████████████████████████| 153kB 5.9MB/s \n",
            "\u001b[?25hRequirement already satisfied: pandas>=0.18 in /usr/local/lib/python3.7/dist-packages (from cmapPy) (1.1.5)\n",
            "Requirement already satisfied: numpy>=1.11.2 in /usr/local/lib/python3.7/dist-packages (from cmapPy) (1.19.5)\n",
            "Requirement already satisfied: six in /usr/local/lib/python3.7/dist-packages (from cmapPy) (1.15.0)\n",
            "Requirement already satisfied: requests>=2.13.0 in /usr/local/lib/python3.7/dist-packages (from cmapPy) (2.23.0)\n",
            "Requirement already satisfied: h5py>=2.6.0 in /usr/local/lib/python3.7/dist-packages (from cmapPy) (2.10.0)\n",
            "Requirement already satisfied: pytz>=2017.2 in /usr/local/lib/python3.7/dist-packages (from pandas>=0.18->cmapPy) (2018.9)\n",
            "Requirement already satisfied: python-dateutil>=2.7.3 in /usr/local/lib/python3.7/dist-packages (from pandas>=0.18->cmapPy) (2.8.1)\n",
            "Requirement already satisfied: urllib3!=1.25.0,!=1.25.1,<1.26,>=1.21.1 in /usr/local/lib/python3.7/dist-packages (from requests>=2.13.0->cmapPy) (1.24.3)\n",
            "Requirement already satisfied: certifi>=2017.4.17 in /usr/local/lib/python3.7/dist-packages (from requests>=2.13.0->cmapPy) (2020.12.5)\n",
            "Requirement already satisfied: chardet<4,>=3.0.2 in /usr/local/lib/python3.7/dist-packages (from requests>=2.13.0->cmapPy) (3.0.4)\n",
            "Requirement already satisfied: idna<3,>=2.5 in /usr/local/lib/python3.7/dist-packages (from requests>=2.13.0->cmapPy) (2.10)\n",
            "Installing collected packages: cmapPy\n",
            "Successfully installed cmapPy-4.0.1\n"
          ],
          "name": "stdout"
        }
      ]
    },
    {
      "cell_type": "code",
      "metadata": {
        "id": "MsRyQp_90sy7"
      },
      "source": [
        "## load the full gene expression data\n",
        "#from cmapPy.pandasGEXpress.parse import parse\n",
        "#gene_expr_matrix_full = parse(l5data).data_df.T\n",
        "\n",
        "## extract full gene data of A549:\n",
        "#A549_gene_expr = gene_expr_matrix_full.loc[[\"_A549_\" in row_name for row_name in gene_expr_matrix_full.index]]\n",
        "#print(A549_gene_expr.shape)\n",
        "## save the A549 data for future use\n",
        "#A549_gene_expr.to_csv(f\"{work_dir}/A549_full_gene_expression.csv\")\n",
        "\n",
        "#A549_gene_expr.head()\n",
        "\n",
        "# del gene_expr_matrix_full  ## release RAM"
      ],
      "execution_count": null,
      "outputs": []
    },
    {
      "cell_type": "code",
      "metadata": {
        "id": "yFEHJqP1dYhG"
      },
      "source": [
        "## only load landmark genes\n",
        "from cmapPy.pandasGEXpress.parse import parse\n",
        "\n",
        "## Load the matrix of differential gene expressions as a pandas dataframe\n",
        "gene_expr_matrix = parse(l5data, rid=landmark_gene_list[\"pr_gene_id\"]).data_df.T\n"
      ],
      "execution_count": null,
      "outputs": []
    },
    {
      "cell_type": "code",
      "metadata": {
        "colab": {
          "base_uri": "https://localhost:8080/"
        },
        "id": "Ezu-EM4C5Zjj",
        "outputId": "7dfe0f3b-ead9-47e2-815a-dc30b1fee9e6"
      },
      "source": [
        "## choose a cell line to start with\n",
        "# see what cell lines are available\n",
        "print(\"number of cell lines:\", len(sig_info.cell_id.unique()))\n",
        "sig_info.cell_id.value_counts()"
      ],
      "execution_count": null,
      "outputs": [
        {
          "output_type": "stream",
          "text": [
            "number of cell lines: 41\n"
          ],
          "name": "stdout"
        },
        {
          "output_type": "execute_result",
          "data": {
            "text/plain": [
              "MCF7        13476\n",
              "A375        12740\n",
              "PC3         12719\n",
              "HT29        12529\n",
              "HA1E        12481\n",
              "YAPC        10621\n",
              "HELA        10617\n",
              "A549         2082\n",
              "HCC515       1900\n",
              "HEPG2        1899\n",
              "HME1         1895\n",
              "BT20         1520\n",
              "HS578T       1516\n",
              "MDAMB231     1515\n",
              "MCF10A       1514\n",
              "SKBR3        1514\n",
              "NPC.TAK      1283\n",
              "NPC          1198\n",
              "ASC          1136\n",
              "ASC.C        1135\n",
              "SKL.C        1132\n",
              "HUVEC        1129\n",
              "SKL          1128\n",
              "CD34         1121\n",
              "NEU          1113\n",
              "NPC.CAS9     1104\n",
              "LNCAP         759\n",
              "PC3.101       380\n",
              "PC3.311       380\n",
              "A375.311      380\n",
              "HELA.311      380\n",
              "MCF7.101      380\n",
              "HT29.311      380\n",
              "HA1E.311      380\n",
              "YAPC.311      380\n",
              "A549.311      380\n",
              "HA1E.101      380\n",
              "MCF7.311      379\n",
              "MNEU.E        377\n",
              "JURKAT        366\n",
              "HUES3         352\n",
              "Name: cell_id, dtype: int64"
            ]
          },
          "metadata": {
            "tags": []
          },
          "execution_count": 9
        }
      ]
    },
    {
      "cell_type": "code",
      "metadata": {
        "id": "vq7_EJK4D_8D"
      },
      "source": [
        "# extract data of A549:\n",
        "#A549_gene_expr = gene_expr_matrix.loc[[\"_A549_\" in row_name for row_name in gene_expr_matrix.index]]\n",
        "#print(A549_gene_expr.shape)\n",
        "# save the A549 data for future use\n",
        "#A549_gene_expr.to_csv(f\"{work_dir}/A549_landmark_expression.csv\")\n",
        "\n",
        "#A549_gene_expr.head()"
      ],
      "execution_count": null,
      "outputs": []
    },
    {
      "cell_type": "markdown",
      "metadata": {
        "id": "rK_HN1A832Nc"
      },
      "source": [
        "# 1. ADAGE model\n",
        "\n",
        "\n",
        "\n",
        "\n",
        "\n",
        "\n",
        "\n"
      ]
    },
    {
      "cell_type": "markdown",
      "metadata": {
        "id": "zCfSBTJj3lMR"
      },
      "source": [
        "construct an ADAGE-based model:\n",
        "1. adding random noise to the input data\n",
        "2. training a neural network with hidden nodes that were able to remove added noise to reconstruct the initial data"
      ]
    },
    {
      "cell_type": "markdown",
      "metadata": {
        "id": "aQFqIYouFGH6"
      },
      "source": [
        "### 1.1 define the model\n",
        "\n",
        "for each sample $x$:\n",
        "- add random noise to a percentage of the genes \n",
        "- use noise-added sample $x'$ as input of denoising autoencoder\n",
        "\n",
        "Process input $x'$ with single-layer linear encoder:\n",
        "> $y = s(Wx'+b)$\n",
        "\n",
        "then reconstruct gene expression by one-layer or multi-layer decoder:\n",
        "> $z =  s(W'y + b') $\n",
        "\n",
        "> keep the last layer of decoder without activation function \n",
        "\n",
        "use Mean Squared Error as loss function\n",
        "> $L(x,z) = \\frac{1}{n}\\sum_{k=1}^n (x_k  -z_k)^2$\n",
        "\n",
        "\n",
        "After training, use the weight of encoder $W$ as gene weights.\n",
        "\n"
      ]
    },
    {
      "cell_type": "code",
      "metadata": {
        "id": "5Rv4TUB67Wn8"
      },
      "source": [
        "class Adage_linear(nn.Module):\n",
        "    \"\"\"Denoising Auto-Encoder: to reconstruct the input from a corrupted gene expression\"\"\"\n",
        "    \n",
        "    def __init__(self, gene_number, node_number = 50, decoder_layers = 1):\n",
        "        super(Adage_linear, self).__init__()\n",
        "\n",
        "        hidden_layers = []\n",
        "        current_node = node_number\n",
        "        if decoder_layers > 1:\n",
        "            delta = (gene_number - node_number) / decoder_layers\n",
        "            for i in range(decoder_layers-1):\n",
        "                n = int(current_node + delta)\n",
        "                hidden_layers.append(nn.Linear(current_node, n))\n",
        "                hidden_layers.append(nn.ReLU(inplace=True))\n",
        "                current_node = n\n",
        "\n",
        "\n",
        "        self.encoder = nn.Sequential(\n",
        "            nn.Linear(gene_number, node_number),\n",
        "            nn.ReLU(inplace=True)\n",
        "        )\n",
        "        self.decoder = nn.Sequential(\n",
        "            *hidden_layers,\n",
        "            nn.Linear(current_node, gene_number)\n",
        "        )    \n",
        "      \n",
        "    def forward(self,x):\n",
        "        y = self.encoder(x)\n",
        "        y = self.decoder(y)\n",
        "        return y\n"
      ],
      "execution_count": null,
      "outputs": []
    },
    {
      "cell_type": "markdown",
      "metadata": {
        "id": "ZNDIOZo_CFiH"
      },
      "source": [
        "Some functions for training:"
      ]
    },
    {
      "cell_type": "code",
      "metadata": {
        "id": "R1Pq9n3fd2iz"
      },
      "source": [
        "## function to split the training and validation data\n",
        "def train_valid_split(dataframe, train_portion = 0.7):\n",
        "    \"\"\"take a pandas dataframe as input, output two numpy arrays according to train_portion\"\"\"\n",
        "    data = dataframe.to_numpy()\n",
        "    np.random.shuffle(data)\n",
        "    train_data, valid_data = data[:int(data.shape[0]*train_portion),:], data[int(data.shape[0]*train_portion):,:]\n",
        "\n",
        "    print('samples in training data:',train_data.shape[0],'\\nsamples in validation data:',valid_data.shape[0])\n",
        "    return train_data, valid_data\n",
        "\n",
        "## function to prepare input data\n",
        "def dataloader(data, batch_size, reuse = True):\n",
        "    \"\"\" prepare a batch of datasets for ADAGE model input \"\"\"\n",
        "    np.random.shuffle(data)\n",
        "    num_batches = len(data) // batch_size\n",
        "    while True:\n",
        "        for i in range(num_batches):\n",
        "            yield data[i * batch_size : (i + 1) * batch_size]\n",
        "        if not reuse and i == num_batches - 1:\n",
        "            yield None\n",
        "\n",
        "## function to save model\n",
        "def save_models(work_dir, model, epoch_number,model_name):\n",
        "    \"\"\"Function to save trained model\"\"\"\n",
        "    save_dir = os.path.join(work_dir, \"trained_model\",model_name)\n",
        "    os.makedirs(save_dir, exist_ok=True)\n",
        "    torch.save(model.state_dict(), '{}/epoch{}'.format(save_dir, epoch_number))\n"
      ],
      "execution_count": null,
      "outputs": []
    },
    {
      "cell_type": "markdown",
      "metadata": {
        "id": "OWaTaGxjICZZ"
      },
      "source": [
        "functions for adding noise"
      ]
    },
    {
      "cell_type": "code",
      "metadata": {
        "id": "JlprVTfDaysv"
      },
      "source": [
        "# define an random noise introducer function\n",
        "def random_noise(train_batch, random_rate = 0.05, std=0.1):\n",
        "    noise=np.random.normal(0,std,train_batch.shape)\n",
        "    rate=np.random.choice([0, 1], size=train_batch.shape, p=[1-random_rate, random_rate])\n",
        "    new_signal=train_batch+noise*rate\n",
        "    return new_signal\n"
      ],
      "execution_count": null,
      "outputs": []
    },
    {
      "cell_type": "markdown",
      "metadata": {
        "id": "vGud6CysE1_I"
      },
      "source": [
        "### 1.2 train the model"
      ]
    },
    {
      "cell_type": "markdown",
      "metadata": {
        "id": "F-XE379CozU4"
      },
      "source": [
        "#### Define the training function"
      ]
    },
    {
      "cell_type": "code",
      "metadata": {
        "id": "7JIZqFI8oyrv"
      },
      "source": [
        "## training function\n",
        "def train_model(model, model_name , noise = False, valid_point_epoch = 30 , model_save_epoch = 200 , iteration_n = 15000, print_train = True):\n",
        "    \n",
        "    criterion = nn.MSELoss()\n",
        "    optimizer=optim.Adam(list(model.parameters()), lr=learning_rate)\n",
        "\n",
        "    start_time = time.time()\n",
        "    print('training start at %s '%(time.ctime(start_time)),'_'*50)\n",
        "    train_loss_record = []\n",
        "    valid_loss_record = []\n",
        "\n",
        "    for epoch in range(iteration_n): \n",
        "        inputs = next(train_loader)\n",
        "        if noise:\n",
        "            inputs_n = random_noise(inputs)\n",
        "        else:\n",
        "            inputs_n = inputs\n",
        "\n",
        "        inputs = torch.tensor(inputs).float()\n",
        "        inputs_n = torch.tensor(inputs_n).float()\n",
        "\n",
        "        # zero the parameter gradients\n",
        "        optimizer.zero_grad()\n",
        "        loss = criterion(model(inputs_n), inputs)\n",
        "        loss.backward()\n",
        "        optimizer.step()  # Update the parameters of the model\n",
        "\n",
        "        # print statistics\n",
        "        batch_loss = np.mean(loss.item())\n",
        "        #epochs.append(epoch+1)\n",
        "        #train_loss.append(batch_loss) \n",
        "        train_loss_record.append((epoch+1, batch_loss))\n",
        "\n",
        "        if print_train and epoch % 50 == 49:    # print every 50 epochs\n",
        "            print('epoch %d loss: %.3f' %\n",
        "                  (epoch + 1, np.mean(loss.item())))\n",
        "        if epoch % valid_point_epoch == valid_point_epoch-1:\n",
        "            valid_inputs = next(valid_loader)\n",
        "            valid_inputs = torch.tensor(valid_inputs).float()\n",
        "            valid_loss = criterion(model(valid_inputs), valid_inputs)\n",
        "            valid_loss_record.append((epoch+1, np.mean(valid_loss.item())))\n",
        "\n",
        "        # save check point models\n",
        "        if epoch % model_save_epoch == model_save_epoch-1:\n",
        "            save_models(work_dir,model,train_loss_record[-1][0],model_name)\n",
        "    print('_'*50,'\\nFinished Training at', time.ctime(time.time()), '\\ntotal training time: %.2f s' %(time.time()-start_time))\n",
        "\n",
        "    with open(f'{work_dir}/trained_model/{model_name}_train_loss_record.txt','w+') as ft:\n",
        "        ft.write('\\n'.join('%s\\t%s' % x for x in train_loss_record))\n",
        "    with open(f'{work_dir}/trained_model/{model_name}_valid_loss_record.txt','w+') as fv:\n",
        "        fv.write('\\n'.join('%s\\t%s' % x for x in valid_loss_record))\n",
        "    \n",
        "    %matplotlib inline\n",
        "    ## plot the training and validation curve\n",
        "    plt.close()\n",
        "    plt.plot(*zip(*train_loss_record),color='orange')\n",
        "    plt.plot(*zip(*valid_loss_record),color='green')\n",
        "    plt.xlabel(\"epoch\")\n",
        "    plt.ylabel(\"MSE\")\n",
        "    plt.savefig(f'{work_dir}/trained_model/{model_name}.pdf')\n",
        "    \n",
        "    return model"
      ],
      "execution_count": null,
      "outputs": []
    },
    {
      "cell_type": "markdown",
      "metadata": {
        "id": "Ekj7oqEICMqx"
      },
      "source": [
        "#### load the data for training and validation"
      ]
    },
    {
      "cell_type": "code",
      "metadata": {
        "colab": {
          "base_uri": "https://localhost:8080/"
        },
        "id": "X5olVZF8oNUh",
        "outputId": "8d4e37bb-75df-4d0f-ccd4-ac1b251ec854"
      },
      "source": [
        "!pip install cmapPy\n",
        "## only load landmark genes\n",
        "from cmapPy.pandasGEXpress.parse import parse\n",
        "import pandas as pd\n",
        "\n",
        "gene_info = pd.read_csv(gene_info_txt, sep = '\\t')\n",
        "\n",
        "landmark_gene_list = gene_info[gene_info['pr_is_lm'] == 1].astype(str)\n",
        "print(landmark_gene_list.shape)\n",
        "## Load the matrix of differential gene expressions as a pandas dataframe\n",
        "gene_expr_matrix = parse(l5data, rid=landmark_gene_list[\"pr_gene_id\"]).data_df.T\n"
      ],
      "execution_count": null,
      "outputs": [
        {
          "output_type": "stream",
          "text": [
            "Collecting cmapPy\n",
            "\u001b[?25l  Downloading https://files.pythonhosted.org/packages/e8/e1/9e90b0dc2051f4a3a2b9553b254889e93a2a3c7a3b925433c6298d99d596/cmapPy-4.0.1-py2.py3-none-any.whl (150kB)\n",
            "\r\u001b[K     |██▏                             | 10kB 15.4MB/s eta 0:00:01\r\u001b[K     |████▍                           | 20kB 20.7MB/s eta 0:00:01\r\u001b[K     |██████▌                         | 30kB 11.1MB/s eta 0:00:01\r\u001b[K     |████████▊                       | 40kB 9.9MB/s eta 0:00:01\r\u001b[K     |███████████                     | 51kB 8.6MB/s eta 0:00:01\r\u001b[K     |█████████████                   | 61kB 6.9MB/s eta 0:00:01\r\u001b[K     |███████████████▎                | 71kB 7.8MB/s eta 0:00:01\r\u001b[K     |█████████████████▌              | 81kB 8.6MB/s eta 0:00:01\r\u001b[K     |███████████████████▋            | 92kB 9.1MB/s eta 0:00:01\r\u001b[K     |█████████████████████▉          | 102kB 7.7MB/s eta 0:00:01\r\u001b[K     |████████████████████████        | 112kB 7.7MB/s eta 0:00:01\r\u001b[K     |██████████████████████████▏     | 122kB 7.7MB/s eta 0:00:01\r\u001b[K     |████████████████████████████▍   | 133kB 7.7MB/s eta 0:00:01\r\u001b[K     |██████████████████████████████▌ | 143kB 7.7MB/s eta 0:00:01\r\u001b[K     |████████████████████████████████| 153kB 7.7MB/s \n",
            "\u001b[?25hRequirement already satisfied: pandas>=0.18 in /usr/local/lib/python3.7/dist-packages (from cmapPy) (1.1.5)\n",
            "Requirement already satisfied: six in /usr/local/lib/python3.7/dist-packages (from cmapPy) (1.15.0)\n",
            "Requirement already satisfied: requests>=2.13.0 in /usr/local/lib/python3.7/dist-packages (from cmapPy) (2.23.0)\n",
            "Requirement already satisfied: numpy>=1.11.2 in /usr/local/lib/python3.7/dist-packages (from cmapPy) (1.19.5)\n",
            "Requirement already satisfied: h5py>=2.6.0 in /usr/local/lib/python3.7/dist-packages (from cmapPy) (2.10.0)\n",
            "Requirement already satisfied: python-dateutil>=2.7.3 in /usr/local/lib/python3.7/dist-packages (from pandas>=0.18->cmapPy) (2.8.1)\n",
            "Requirement already satisfied: pytz>=2017.2 in /usr/local/lib/python3.7/dist-packages (from pandas>=0.18->cmapPy) (2018.9)\n",
            "Requirement already satisfied: urllib3!=1.25.0,!=1.25.1,<1.26,>=1.21.1 in /usr/local/lib/python3.7/dist-packages (from requests>=2.13.0->cmapPy) (1.24.3)\n",
            "Requirement already satisfied: idna<3,>=2.5 in /usr/local/lib/python3.7/dist-packages (from requests>=2.13.0->cmapPy) (2.10)\n",
            "Requirement already satisfied: certifi>=2017.4.17 in /usr/local/lib/python3.7/dist-packages (from requests>=2.13.0->cmapPy) (2020.12.5)\n",
            "Requirement already satisfied: chardet<4,>=3.0.2 in /usr/local/lib/python3.7/dist-packages (from requests>=2.13.0->cmapPy) (3.0.4)\n",
            "Installing collected packages: cmapPy\n",
            "Successfully installed cmapPy-4.0.1\n",
            "(978, 5)\n"
          ],
          "name": "stdout"
        }
      ]
    },
    {
      "cell_type": "code",
      "metadata": {
        "id": "v-ro2IeigYF-"
      },
      "source": [
        "# define the dataframe to be used\n",
        "dataf = gene_expr_matrix\n",
        "# split datasets\n",
        "train_data, valid_data = train_valid_split(dataf)\n",
        "# initiate dataloader\n",
        "train_loader = dataloader(train_data, 80)\n",
        "valid_loader = dataloader(valid_data,80)"
      ],
      "execution_count": null,
      "outputs": []
    },
    {
      "cell_type": "markdown",
      "metadata": {
        "id": "C0x4NPR-pE_1"
      },
      "source": [
        "#### Set parameters and launch training"
      ]
    },
    {
      "cell_type": "code",
      "metadata": {
        "colab": {
          "base_uri": "https://localhost:8080/",
          "height": 711
        },
        "id": "tP0yPwnkE1Hr",
        "outputId": "2fdf9721-720d-40a3-92d0-5aa3f989850d"
      },
      "source": [
        "## set hyper-parameters\n",
        "node_n=50\n",
        "layers = 5\n",
        "\n",
        "learning_rate = 0.002\n",
        "iteration_n = 10000\n",
        "\n",
        "model_name=f\"{layers}layer_{node_n}nodes_lr{learning_rate}_allsample_landmark_gene\"\n",
        "valid_point_epoch = 50\n",
        "model_save_epoch = 500\n",
        "\n",
        "## instantiate the model\n",
        "DA = Adage_linear(train_data.shape[1], node_number=node_n, decoder_layers = layers)\n",
        "print(\"{}\\nADAGE Network Architecture:\\n{}\\n{}\\n\".format(\"=\"*31, \"~\"*31, DA))\n",
        "\n",
        "## train the model\n",
        "DA = train_model(DA, model_name, valid_point_epoch = valid_point_epoch, model_save_epoch = model_save_epoch, iteration_n = iteration_n, print_train = False)"
      ],
      "execution_count": null,
      "outputs": [
        {
          "output_type": "stream",
          "text": [
            "===============================\n",
            "ADAGE Network Architecture:\n",
            "~~~~~~~~~~~~~~~~~~~~~~~~~~~~~~~\n",
            "Adage_linear(\n",
            "  (encoder): Sequential(\n",
            "    (0): Linear(in_features=978, out_features=50, bias=True)\n",
            "    (1): ReLU(inplace=True)\n",
            "  )\n",
            "  (decoder): Sequential(\n",
            "    (0): Linear(in_features=50, out_features=235, bias=True)\n",
            "    (1): ReLU(inplace=True)\n",
            "    (2): Linear(in_features=235, out_features=420, bias=True)\n",
            "    (3): ReLU(inplace=True)\n",
            "    (4): Linear(in_features=420, out_features=605, bias=True)\n",
            "    (5): ReLU(inplace=True)\n",
            "    (6): Linear(in_features=605, out_features=790, bias=True)\n",
            "    (7): ReLU(inplace=True)\n",
            "    (8): Linear(in_features=790, out_features=978, bias=True)\n",
            "  )\n",
            ")\n",
            "\n",
            "training start at Fri Mar 26 20:30:50 2021  __________________________________________________\n",
            "__________________________________________________ \n",
            "Finished Training at Fri Mar 26 20:40:58 2021 \n",
            "total training time: 608.36 s\n"
          ],
          "name": "stdout"
        },
        {
          "output_type": "display_data",
          "data": {
            "image/png": "[encoded data removed]",
            "text/plain": [
              "<Figure size 432x288 with 1 Axes>"
            ]
          },
          "metadata": {
            "tags": []
          }
        }
      ]
    },
    {
      "cell_type": "markdown",
      "metadata": {
        "id": "fGyv6WoyTOMJ"
      },
      "source": [
        "# 2. extracting high-weight genes\n",
        "\n",
        "from the learned weights of each node, we extract genes corresponding to high weights, aka 2 or more stdev away from mean.\n",
        "\n",
        "$w_{gene} \\geq \\bar{w} \\pm 2 \\sigma $\n"
      ]
    },
    {
      "cell_type": "code",
      "metadata": {
        "colab": {
          "base_uri": "https://localhost:8080/"
        },
        "id": "EzFqBT66b9m7",
        "outputId": "66a31186-c846-49f2-9685-51b51cb7b3bb"
      },
      "source": [
        "# load the trained model\n",
        "node_n=50\n",
        "layers = 5\n",
        "\n",
        "learning_rate = 0.002\n",
        "epoch_n = 10000\n",
        "\n",
        "model_name_epoch=f\"trial1/{layers}layers_{node_n}nodes_allsample_landmark_gene/epoch{epoch_n}\"\n",
        "DA = Adage_linear(train_data.shape[1], node_number=node_n, decoder_layers = layers)\n",
        "DA.load_state_dict(torch.load(f'{work_dir}/trained_model/{model_name_epoch}'))\n",
        "DA.eval()"
      ],
      "execution_count": null,
      "outputs": [
        {
          "output_type": "execute_result",
          "data": {
            "text/plain": [
              "Adage_linear(\n",
              "  (encoder): Sequential(\n",
              "    (0): Linear(in_features=978, out_features=50, bias=True)\n",
              "    (1): ReLU(inplace=True)\n",
              "  )\n",
              "  (decoder): Sequential(\n",
              "    (0): Linear(in_features=50, out_features=235, bias=True)\n",
              "    (1): ReLU(inplace=True)\n",
              "    (2): Linear(in_features=235, out_features=420, bias=True)\n",
              "    (3): ReLU(inplace=True)\n",
              "    (4): Linear(in_features=420, out_features=605, bias=True)\n",
              "    (5): ReLU(inplace=True)\n",
              "    (6): Linear(in_features=605, out_features=790, bias=True)\n",
              "    (7): ReLU(inplace=True)\n",
              "    (8): Linear(in_features=790, out_features=978, bias=True)\n",
              "  )\n",
              ")"
            ]
          },
          "metadata": {
            "tags": []
          },
          "execution_count": 13
        }
      ]
    },
    {
      "cell_type": "code",
      "metadata": {
        "colab": {
          "base_uri": "https://localhost:8080/",
          "height": 238
        },
        "id": "XQXMsU0Q81C9",
        "outputId": "6d576e67-cf10-4c04-a09c-4695048fd830"
      },
      "source": [
        "gene_info = pd.read_csv(gene_info_txt, sep = '\\t')\n",
        "print(gene_info.shape)\n",
        "#gene_info.head()\n",
        "landmark_gene = gene_info[gene_info['pr_is_lm'] == 1].astype(str)\n",
        "print(landmark_gene.shape)\n",
        "landmark_gene.head()"
      ],
      "execution_count": null,
      "outputs": [
        {
          "output_type": "stream",
          "text": [
            "(12328, 5)\n",
            "(978, 5)\n"
          ],
          "name": "stdout"
        },
        {
          "output_type": "execute_result",
          "data": {
            "text/html": [
              "<div>\n",
              "<style scoped>\n",
              "    .dataframe tbody tr th:only-of-type {\n",
              "        vertical-align: middle;\n",
              "    }\n",
              "\n",
              "    .dataframe tbody tr th {\n",
              "        vertical-align: top;\n",
              "    }\n",
              "\n",
              "    .dataframe thead th {\n",
              "        text-align: right;\n",
              "    }\n",
              "</style>\n",
              "<table border=\"1\" class=\"dataframe\">\n",
              "  <thead>\n",
              "    <tr style=\"text-align: right;\">\n",
              "      <th></th>\n",
              "      <th>pr_gene_id</th>\n",
              "      <th>pr_gene_symbol</th>\n",
              "      <th>pr_gene_title</th>\n",
              "      <th>pr_is_lm</th>\n",
              "      <th>pr_is_bing</th>\n",
              "    </tr>\n",
              "  </thead>\n",
              "  <tbody>\n",
              "    <tr>\n",
              "      <th>0</th>\n",
              "      <td>780</td>\n",
              "      <td>DDR1</td>\n",
              "      <td>discoidin domain receptor tyrosine kinase 1</td>\n",
              "      <td>1</td>\n",
              "      <td>1</td>\n",
              "    </tr>\n",
              "    <tr>\n",
              "      <th>1</th>\n",
              "      <td>7849</td>\n",
              "      <td>PAX8</td>\n",
              "      <td>paired box 8</td>\n",
              "      <td>1</td>\n",
              "      <td>1</td>\n",
              "    </tr>\n",
              "    <tr>\n",
              "      <th>25</th>\n",
              "      <td>6193</td>\n",
              "      <td>RPS5</td>\n",
              "      <td>ribosomal protein S5</td>\n",
              "      <td>1</td>\n",
              "      <td>1</td>\n",
              "    </tr>\n",
              "    <tr>\n",
              "      <th>43</th>\n",
              "      <td>23</td>\n",
              "      <td>ABCF1</td>\n",
              "      <td>ATP binding cassette subfamily F member 1</td>\n",
              "      <td>1</td>\n",
              "      <td>1</td>\n",
              "    </tr>\n",
              "    <tr>\n",
              "      <th>49</th>\n",
              "      <td>9552</td>\n",
              "      <td>SPAG7</td>\n",
              "      <td>sperm associated antigen 7</td>\n",
              "      <td>1</td>\n",
              "      <td>1</td>\n",
              "    </tr>\n",
              "  </tbody>\n",
              "</table>\n",
              "</div>"
            ],
            "text/plain": [
              "   pr_gene_id pr_gene_symbol  ... pr_is_lm pr_is_bing\n",
              "0         780           DDR1  ...        1          1\n",
              "1        7849           PAX8  ...        1          1\n",
              "25       6193           RPS5  ...        1          1\n",
              "43         23          ABCF1  ...        1          1\n",
              "49       9552          SPAG7  ...        1          1\n",
              "\n",
              "[5 rows x 5 columns]"
            ]
          },
          "metadata": {
            "tags": []
          },
          "execution_count": 14
        }
      ]
    },
    {
      "cell_type": "code",
      "metadata": {
        "id": "Aq0iXGDKTWwb"
      },
      "source": [
        "def extract_high_weight_gene(DAmodel, dataframe = dataf, gene_info_file = gene_info_txt, stdev_cutoff = 2, save = True, \n",
        "                             savepath = f'{work_dir}/trained_model/{model_name_epoch}_high_weight_genes.txt'):\n",
        "    '''\n",
        "    This function read weight matrix, extract the corresponding gene id from input, and out put a summary dataframe\n",
        "    '''\n",
        "    ## load gene info\n",
        "    gene_info = pd.read_csv(gene_info_file, sep = '\\t')\n",
        "    gene_info['pr_gene_id'] = gene_info['pr_gene_id'].astype(str)\n",
        "\n",
        "    # get the gene id in the order of training data\n",
        "    gene_id = dataframe.columns.to_list()\n",
        "    # subset gene info and organize in the order of gene_id\n",
        "    gene_df = gene_info.set_index('pr_gene_id').loc[gene_id].reset_index()\n",
        "\n",
        "    #get the weitht matrix between genes and nodes\n",
        "    t_weight = DAmodel.encoder[0].weight\n",
        "\n",
        "    #calculate mean and std at each node of matrix\n",
        "    w_mean = t_weight.mean(dim=1).reshape(t_weight.shape[0],1)\n",
        "    w_std = t_weight.std(dim=1).reshape(t_weight.shape[0],1)\n",
        "\n",
        "    #check for the weights which is more than two std from the mean of each nodes\n",
        "    t_torf_HW=abs(t_weight-w_mean)- stdev_cutoff*w_std >= 0\n",
        "   \n",
        "    #extract and save the genes\n",
        "    dfs = []\n",
        "    for i in range(t_torf_HW.shape[0]):\n",
        "        node_hw = t_torf_HW[i].tolist()\n",
        "        node_HWgene = gene_df[node_hw]\n",
        "        node_HWgene.loc[:,'gene_weight'] = t_weight[i][node_hw].tolist()\n",
        "        node_HWgene.loc[:,'node_id'] = i\n",
        "        dfs.append(node_HWgene)\n",
        "\n",
        "    HWgene = pd.concat(dfs)\n",
        "\n",
        "    if save:\n",
        "        HWgene.to_csv(savepath, sep='\\t',index=False)\n",
        "\n",
        "    return HWgene"
      ],
      "execution_count": null,
      "outputs": []
    },
    {
      "cell_type": "code",
      "metadata": {
        "colab": {
          "base_uri": "https://localhost:8080/",
          "height": 615
        },
        "id": "N6aFMy89cNZh",
        "outputId": "72b8de65-ce1b-42d5-e090-9fc86a9f48c1"
      },
      "source": [
        "HWgene = extract_high_weight_gene(DA)\n",
        "print(HWgene.shape)\n",
        "\n",
        "HWgene.head()"
      ],
      "execution_count": null,
      "outputs": [
        {
          "output_type": "stream",
          "text": [
            "/usr/local/lib/python3.7/dist-packages/pandas/core/indexing.py:1596: SettingWithCopyWarning: \n",
            "A value is trying to be set on a copy of a slice from a DataFrame.\n",
            "Try using .loc[row_indexer,col_indexer] = value instead\n",
            "\n",
            "See the caveats in the documentation: https://pandas.pydata.org/pandas-docs/stable/user_guide/indexing.html#returning-a-view-versus-a-copy\n",
            "  self.obj[key] = _infer_fill_value(value)\n",
            "/usr/local/lib/python3.7/dist-packages/pandas/core/indexing.py:1743: SettingWithCopyWarning: \n",
            "A value is trying to be set on a copy of a slice from a DataFrame.\n",
            "Try using .loc[row_indexer,col_indexer] = value instead\n",
            "\n",
            "See the caveats in the documentation: https://pandas.pydata.org/pandas-docs/stable/user_guide/indexing.html#returning-a-view-versus-a-copy\n",
            "  isetter(ilocs[0], value)\n",
            "/usr/local/lib/python3.7/dist-packages/pandas/core/indexing.py:1763: SettingWithCopyWarning: \n",
            "A value is trying to be set on a copy of a slice from a DataFrame.\n",
            "Try using .loc[row_indexer,col_indexer] = value instead\n",
            "\n",
            "See the caveats in the documentation: https://pandas.pydata.org/pandas-docs/stable/user_guide/indexing.html#returning-a-view-versus-a-copy\n",
            "  isetter(loc, value)\n"
          ],
          "name": "stderr"
        },
        {
          "output_type": "stream",
          "text": [
            "(2226, 7)\n"
          ],
          "name": "stdout"
        },
        {
          "output_type": "execute_result",
          "data": {
            "text/html": [
              "<div>\n",
              "<style scoped>\n",
              "    .dataframe tbody tr th:only-of-type {\n",
              "        vertical-align: middle;\n",
              "    }\n",
              "\n",
              "    .dataframe tbody tr th {\n",
              "        vertical-align: top;\n",
              "    }\n",
              "\n",
              "    .dataframe thead th {\n",
              "        text-align: right;\n",
              "    }\n",
              "</style>\n",
              "<table border=\"1\" class=\"dataframe\">\n",
              "  <thead>\n",
              "    <tr style=\"text-align: right;\">\n",
              "      <th></th>\n",
              "      <th>pr_gene_id</th>\n",
              "      <th>pr_gene_symbol</th>\n",
              "      <th>pr_gene_title</th>\n",
              "      <th>pr_is_lm</th>\n",
              "      <th>pr_is_bing</th>\n",
              "      <th>gene_weight</th>\n",
              "      <th>node_id</th>\n",
              "    </tr>\n",
              "  </thead>\n",
              "  <tbody>\n",
              "    <tr>\n",
              "      <th>8</th>\n",
              "      <td>533</td>\n",
              "      <td>ATP6V0B</td>\n",
              "      <td>ATPase, H+ transporting, lysosomal 21kDa, V0 s...</td>\n",
              "      <td>1</td>\n",
              "      <td>1</td>\n",
              "      <td>-0.253299</td>\n",
              "      <td>0</td>\n",
              "    </tr>\n",
              "    <tr>\n",
              "      <th>23</th>\n",
              "      <td>823</td>\n",
              "      <td>CAPN1</td>\n",
              "      <td>calpain 1</td>\n",
              "      <td>1</td>\n",
              "      <td>1</td>\n",
              "      <td>-0.193122</td>\n",
              "      <td>0</td>\n",
              "    </tr>\n",
              "    <tr>\n",
              "      <th>151</th>\n",
              "      <td>949</td>\n",
              "      <td>SCARB1</td>\n",
              "      <td>scavenger receptor class B member 1</td>\n",
              "      <td>1</td>\n",
              "      <td>1</td>\n",
              "      <td>-0.297632</td>\n",
              "      <td>0</td>\n",
              "    </tr>\n",
              "    <tr>\n",
              "      <th>153</th>\n",
              "      <td>6603</td>\n",
              "      <td>SMARCD2</td>\n",
              "      <td>SWI/SNF related, matrix associated, actin depe...</td>\n",
              "      <td>1</td>\n",
              "      <td>1</td>\n",
              "      <td>-0.226271</td>\n",
              "      <td>0</td>\n",
              "    </tr>\n",
              "    <tr>\n",
              "      <th>194</th>\n",
              "      <td>5831</td>\n",
              "      <td>PYCR1</td>\n",
              "      <td>pyrroline-5-carboxylate reductase 1</td>\n",
              "      <td>1</td>\n",
              "      <td>1</td>\n",
              "      <td>-0.230741</td>\n",
              "      <td>0</td>\n",
              "    </tr>\n",
              "  </tbody>\n",
              "</table>\n",
              "</div>"
            ],
            "text/plain": [
              "    pr_gene_id pr_gene_symbol  ... gene_weight  node_id\n",
              "8          533        ATP6V0B  ...   -0.253299        0\n",
              "23         823          CAPN1  ...   -0.193122        0\n",
              "151        949         SCARB1  ...   -0.297632        0\n",
              "153       6603        SMARCD2  ...   -0.226271        0\n",
              "194       5831          PYCR1  ...   -0.230741        0\n",
              "\n",
              "[5 rows x 7 columns]"
            ]
          },
          "metadata": {
            "tags": []
          },
          "execution_count": 16
        }
      ]
    },
    {
      "cell_type": "markdown",
      "metadata": {
        "id": "jTMU3t7X-ya8"
      },
      "source": [
        "# 3. Evaluate the learning results\n"
      ]
    },
    {
      "cell_type": "markdown",
      "metadata": {
        "id": "htLieG0B_hYU"
      },
      "source": [
        "### 3.1 Compare gene sets with protein interaction database (STRING database) \n",
        "\n",
        "download and prepare the interaction database "
      ]
    },
    {
      "cell_type": "code",
      "metadata": {
        "colab": {
          "base_uri": "https://localhost:8080/",
          "height": 204
        },
        "id": "YrDHj5L8_ljx",
        "outputId": "593fa6e1-19c9-4d5f-96b4-3821e6db992d"
      },
      "source": [
        "# download STRING database for human\n",
        "#stringdb_path = f'{work_dir}/9606.protein.links.full.v11.0.txt'\n",
        "stringdb_path = f'{work_dir}/9606.protein.links.v11.0.txt'\n",
        "if not os.path.isfile(stringdb_path):\n",
        "    #os.system(f'wget -O {stringdb_path}.gz https://stringdb-static.org/download/protein.links.full.v11.0/9606.protein.links.full.v11.0.txt.gz')\n",
        "    os.system(f'wget -O {stringdb_path}.gz https://stringdb-static.org/download/protein.links.v11.0/9606.protein.links.v11.0.txt.gz')\n",
        "    os.system(f'gunzip {stringdb_path}.gz')\n",
        "\n",
        "stringdb = pd.read_csv(stringdb_path, sep=' ') \n",
        "stringdb.head()\n"
      ],
      "execution_count": null,
      "outputs": [
        {
          "output_type": "execute_result",
          "data": {
            "text/html": [
              "<div>\n",
              "<style scoped>\n",
              "    .dataframe tbody tr th:only-of-type {\n",
              "        vertical-align: middle;\n",
              "    }\n",
              "\n",
              "    .dataframe tbody tr th {\n",
              "        vertical-align: top;\n",
              "    }\n",
              "\n",
              "    .dataframe thead th {\n",
              "        text-align: right;\n",
              "    }\n",
              "</style>\n",
              "<table border=\"1\" class=\"dataframe\">\n",
              "  <thead>\n",
              "    <tr style=\"text-align: right;\">\n",
              "      <th></th>\n",
              "      <th>protein1</th>\n",
              "      <th>protein2</th>\n",
              "      <th>combined_score</th>\n",
              "    </tr>\n",
              "  </thead>\n",
              "  <tbody>\n",
              "    <tr>\n",
              "      <th>0</th>\n",
              "      <td>9606.ENSP00000000233</td>\n",
              "      <td>9606.ENSP00000272298</td>\n",
              "      <td>490</td>\n",
              "    </tr>\n",
              "    <tr>\n",
              "      <th>1</th>\n",
              "      <td>9606.ENSP00000000233</td>\n",
              "      <td>9606.ENSP00000253401</td>\n",
              "      <td>198</td>\n",
              "    </tr>\n",
              "    <tr>\n",
              "      <th>2</th>\n",
              "      <td>9606.ENSP00000000233</td>\n",
              "      <td>9606.ENSP00000401445</td>\n",
              "      <td>159</td>\n",
              "    </tr>\n",
              "    <tr>\n",
              "      <th>3</th>\n",
              "      <td>9606.ENSP00000000233</td>\n",
              "      <td>9606.ENSP00000418915</td>\n",
              "      <td>606</td>\n",
              "    </tr>\n",
              "    <tr>\n",
              "      <th>4</th>\n",
              "      <td>9606.ENSP00000000233</td>\n",
              "      <td>9606.ENSP00000327801</td>\n",
              "      <td>167</td>\n",
              "    </tr>\n",
              "  </tbody>\n",
              "</table>\n",
              "</div>"
            ],
            "text/plain": [
              "               protein1              protein2  combined_score\n",
              "0  9606.ENSP00000000233  9606.ENSP00000272298             490\n",
              "1  9606.ENSP00000000233  9606.ENSP00000253401             198\n",
              "2  9606.ENSP00000000233  9606.ENSP00000401445             159\n",
              "3  9606.ENSP00000000233  9606.ENSP00000418915             606\n",
              "4  9606.ENSP00000000233  9606.ENSP00000327801             167"
            ]
          },
          "metadata": {
            "tags": []
          },
          "execution_count": 17
        }
      ]
    },
    {
      "cell_type": "markdown",
      "metadata": {
        "id": "cFIDwROIrkUO"
      },
      "source": [
        "useful funtions"
      ]
    },
    {
      "cell_type": "code",
      "metadata": {
        "id": "fkH4GKgR-xTm"
      },
      "source": [
        "import requests \n",
        "\n",
        "def symbol_to_ID(list_of_HUGO_symbol, string_api_url = \"https://string-db.org/api\", output_format = \"tsv-no-header\", method = \"get_string_ids\", species = 9606):  \n",
        "    '''A function to match HUGO gene symbol (used in L1000) to protein ID (used in STRING)\n",
        "    return a list of tuples (symbol, STRING_ID)\n",
        "    (script adapted and modified from STRING API page: https://string-db.org/help/api/)\n",
        "    '''\n",
        "    \n",
        "    params = {\n",
        "        \"identifiers\" : \"\\r\".join(list_of_HUGO_symbol), # your protein list\n",
        "        \"species\" : species, # species NCBI identifier \n",
        "        \"limit\" : 1, # only one (best) identifier per input protein\n",
        "        \"echo_query\" : 1, # see your input identifiers in the output\n",
        "        \"caller_identity\" : \"ADAGE_project\" # your app name\n",
        "    }\n",
        "\n",
        "    ## Construct URL\n",
        "    request_url = \"/\".join([string_api_url, output_format, method])\n",
        "\n",
        "    ## Call STRING\n",
        "    results = requests.post(request_url, data=params)\n",
        "\n",
        "    ## Read and parse the results\n",
        "    IDmatch = []\n",
        "    for line in results.text.strip().split(\"\\n\"):\n",
        "        l = line.split(\"\\t\")\n",
        "        IDmatch.append((l[0], l[2]))\n",
        "        #input_identifier, string_identifier = l[0], l[2]\n",
        "        #print(\"Input:\", input_identifier, \"STRING:\", string_identifier, sep=\"\\t\")\n",
        "\n",
        "    return IDmatch\n",
        "\n",
        "def extract_STRINGinteractions(gene_df, save = False, save_path = f'{work_dir}/trained_model/stringdb_record.txt'):\n",
        "    '''the gene_df dataframe must have column \"node_id\" and \"STRING_ID\"'''\n",
        "    links = []\n",
        "    for i in gene_df['node_id'].unique():\n",
        "        s_ids = gene_df.loc[gene_df['node_id']==i]['STRING_ID'].tolist()\n",
        "\n",
        "        g_links = stringdb[stringdb['protein1'].isin(s_ids) & stringdb['protein2'].isin(s_ids)].copy()\n",
        "        #print(f'=== gene set #{i} ===\\n  {len(s_ids)} genes contain {len(g_links.index)} links')\n",
        "        \n",
        "        g_links.loc[:,'node_id'] = i\n",
        "        links.append(g_links)\n",
        "\n",
        "    total_interactions = pd.concat(links)\n",
        "    if save:\n",
        "        total_interactions.to_csv(save_path,sep='\\t',index=False)\n",
        "\n",
        "    return total_interactions"
      ],
      "execution_count": null,
      "outputs": []
    },
    {
      "cell_type": "code",
      "metadata": {
        "id": "kmjn7OqqrySC"
      },
      "source": [
        "# build a dictionary of gene symbol to StringID\n",
        "if os.path.isfile(f'{work_dir}/landmark_gene_STRING_ID.txt'):\n",
        "    STRINGID_dict = {}\n",
        "    with open(f'{work_dir}/landmark_gene_STRING_ID.txt') as f:\n",
        "        for line in f:\n",
        "            (key, val) = line[:-1].split('\\t')\n",
        "            STRINGID_dict[key] = val\n",
        "else:\n",
        "    landmark_gene_STRINGIDs = symbol_to_ID(landmark_gene_list['pr_gene_symbol'])\n",
        "    with open(f'{work_dir}/landmark_gene_STRING_ID.txt','w+') as f:\n",
        "        f.write('\\n'.join('%s\\t%s' % x for x in landmark_gene_STRINGIDs))\n",
        "    STRINGID_dict = dict(landmark_gene_STRINGIDs)"
      ],
      "execution_count": null,
      "outputs": []
    },
    {
      "cell_type": "markdown",
      "metadata": {
        "id": "OAV-oupESuGG"
      },
      "source": [
        "Look at how many interactions in each gene set"
      ]
    },
    {
      "cell_type": "code",
      "metadata": {
        "colab": {
          "base_uri": "https://localhost:8080/",
          "height": 221
        },
        "id": "cXDsbUrFSo02",
        "outputId": "1c57439c-dc27-4ec5-d6d8-94664dbd0d55"
      },
      "source": [
        "# get STRING IDs of the high weight genes \n",
        "HWgene['STRING_ID'] = [STRINGID_dict[s] for s in HWgene['pr_gene_symbol'].to_list()]\n",
        "# interactions in each gene set\n",
        "total_interactions = extract_STRINGinteractions(HWgene,  save=True, save_path= f'{work_dir}/trained_model/{model_name_epoch}_HWgene_stringdb_records.txt')\n",
        "print(total_interactions.shape)\n",
        "total_interactions.head()"
      ],
      "execution_count": null,
      "outputs": [
        {
          "output_type": "stream",
          "text": [
            "(13798, 4)\n"
          ],
          "name": "stdout"
        },
        {
          "output_type": "execute_result",
          "data": {
            "text/html": [
              "<div>\n",
              "<style scoped>\n",
              "    .dataframe tbody tr th:only-of-type {\n",
              "        vertical-align: middle;\n",
              "    }\n",
              "\n",
              "    .dataframe tbody tr th {\n",
              "        vertical-align: top;\n",
              "    }\n",
              "\n",
              "    .dataframe thead th {\n",
              "        text-align: right;\n",
              "    }\n",
              "</style>\n",
              "<table border=\"1\" class=\"dataframe\">\n",
              "  <thead>\n",
              "    <tr style=\"text-align: right;\">\n",
              "      <th></th>\n",
              "      <th>protein1</th>\n",
              "      <th>protein2</th>\n",
              "      <th>combined_score</th>\n",
              "      <th>node_id</th>\n",
              "    </tr>\n",
              "  </thead>\n",
              "  <tbody>\n",
              "    <tr>\n",
              "      <th>302177</th>\n",
              "      <td>9606.ENSP00000216554</td>\n",
              "      <td>9606.ENSP00000432083</td>\n",
              "      <td>246</td>\n",
              "      <td>0</td>\n",
              "    </tr>\n",
              "    <tr>\n",
              "      <th>302184</th>\n",
              "      <td>9606.ENSP00000216554</td>\n",
              "      <td>9606.ENSP00000421689</td>\n",
              "      <td>176</td>\n",
              "      <td>0</td>\n",
              "    </tr>\n",
              "    <tr>\n",
              "      <th>302276</th>\n",
              "      <td>9606.ENSP00000216554</td>\n",
              "      <td>9606.ENSP00000318697</td>\n",
              "      <td>173</td>\n",
              "      <td>0</td>\n",
              "    </tr>\n",
              "    <tr>\n",
              "      <th>676318</th>\n",
              "      <td>9606.ENSP00000229314</td>\n",
              "      <td>9606.ENSP00000287878</td>\n",
              "      <td>270</td>\n",
              "      <td>0</td>\n",
              "    </tr>\n",
              "    <tr>\n",
              "      <th>676388</th>\n",
              "      <td>9606.ENSP00000229314</td>\n",
              "      <td>9606.ENSP00000349860</td>\n",
              "      <td>287</td>\n",
              "      <td>0</td>\n",
              "    </tr>\n",
              "  </tbody>\n",
              "</table>\n",
              "</div>"
            ],
            "text/plain": [
              "                    protein1              protein2  combined_score  node_id\n",
              "302177  9606.ENSP00000216554  9606.ENSP00000432083             246        0\n",
              "302184  9606.ENSP00000216554  9606.ENSP00000421689             176        0\n",
              "302276  9606.ENSP00000216554  9606.ENSP00000318697             173        0\n",
              "676318  9606.ENSP00000229314  9606.ENSP00000287878             270        0\n",
              "676388  9606.ENSP00000229314  9606.ENSP00000349860             287        0"
            ]
          },
          "metadata": {
            "tags": []
          },
          "execution_count": 20
        }
      ]
    },
    {
      "cell_type": "markdown",
      "metadata": {
        "id": "5-i2HCmnYMhu"
      },
      "source": [
        "To understand the interaction-pair numbers, we estimate interaction-pair number with random genes in L1000:\n",
        "\n",
        "we generate same number of genesets with same number of random landmark genes in each set"
      ]
    },
    {
      "cell_type": "code",
      "metadata": {
        "colab": {
          "base_uri": "https://localhost:8080/",
          "height": 204
        },
        "id": "8LrTrBi5YLp4",
        "outputId": "028dfd29-80e5-43f7-9ea8-67ef3e8a26e5"
      },
      "source": [
        "import random\n",
        "L1000gene = landmark_gene['pr_gene_symbol'].to_list()\n",
        "\n",
        "random_gene_list = []\n",
        "for i in HWgene['node_id'].unique():\n",
        "    gene_number = HWgene.node_id.value_counts()[i]\n",
        "    random_gene = random.sample(L1000gene, gene_number)\n",
        "    random_gene_stringID = [STRINGID_dict[s] for s in random_gene]\n",
        "    random_df = pd.DataFrame([(x[0],x[1],i) for x in zip(random_gene,random_gene_stringID)], columns=['pr_gene_symbol','STRING_ID','node_id'])\n",
        "    random_gene_list.append(random_df)\n",
        "\n",
        "random_genes = pd.concat(random_gene_list)\n",
        "random_genes.to_csv(f'{work_dir}/trained_model/{model_name_epoch}_random_landmark_genes.txt',sep='\\t',index=False)\n",
        "random_genes.head()"
      ],
      "execution_count": null,
      "outputs": [
        {
          "output_type": "execute_result",
          "data": {
            "text/html": [
              "<div>\n",
              "<style scoped>\n",
              "    .dataframe tbody tr th:only-of-type {\n",
              "        vertical-align: middle;\n",
              "    }\n",
              "\n",
              "    .dataframe tbody tr th {\n",
              "        vertical-align: top;\n",
              "    }\n",
              "\n",
              "    .dataframe thead th {\n",
              "        text-align: right;\n",
              "    }\n",
              "</style>\n",
              "<table border=\"1\" class=\"dataframe\">\n",
              "  <thead>\n",
              "    <tr style=\"text-align: right;\">\n",
              "      <th></th>\n",
              "      <th>pr_gene_symbol</th>\n",
              "      <th>STRING_ID</th>\n",
              "      <th>node_id</th>\n",
              "    </tr>\n",
              "  </thead>\n",
              "  <tbody>\n",
              "    <tr>\n",
              "      <th>0</th>\n",
              "      <td>SCP2</td>\n",
              "      <td>9606.ENSP00000360569</td>\n",
              "      <td>0</td>\n",
              "    </tr>\n",
              "    <tr>\n",
              "      <th>1</th>\n",
              "      <td>ADGRG1</td>\n",
              "      <td>9606.ENSP00000455215</td>\n",
              "      <td>0</td>\n",
              "    </tr>\n",
              "    <tr>\n",
              "      <th>2</th>\n",
              "      <td>HOXA10</td>\n",
              "      <td>9606.ENSP00000283921</td>\n",
              "      <td>0</td>\n",
              "    </tr>\n",
              "    <tr>\n",
              "      <th>3</th>\n",
              "      <td>VAT1</td>\n",
              "      <td>9606.ENSP00000347872</td>\n",
              "      <td>0</td>\n",
              "    </tr>\n",
              "    <tr>\n",
              "      <th>4</th>\n",
              "      <td>MIF</td>\n",
              "      <td>9606.ENSP00000215754</td>\n",
              "      <td>0</td>\n",
              "    </tr>\n",
              "  </tbody>\n",
              "</table>\n",
              "</div>"
            ],
            "text/plain": [
              "  pr_gene_symbol             STRING_ID  node_id\n",
              "0           SCP2  9606.ENSP00000360569        0\n",
              "1         ADGRG1  9606.ENSP00000455215        0\n",
              "2         HOXA10  9606.ENSP00000283921        0\n",
              "3           VAT1  9606.ENSP00000347872        0\n",
              "4            MIF  9606.ENSP00000215754        0"
            ]
          },
          "metadata": {
            "tags": []
          },
          "execution_count": 21
        }
      ]
    },
    {
      "cell_type": "markdown",
      "metadata": {
        "id": "Y66b8XXzqQP6"
      },
      "source": [
        "Compare the interaction numbers between high-weight gene sets and random gene sets"
      ]
    },
    {
      "cell_type": "code",
      "metadata": {
        "id": "x1z3XS3V2Dz_"
      },
      "source": [
        "# calculate interactions\n",
        "random_gene_interaction = extract_STRINGinteractions(random_genes,save=True,save_path=f'{work_dir}/trained_model/{model_name_epoch}_random_landmark_stringdb_records.txt')\n",
        "# load interactions \n",
        "random_gene_interaction = pd.read_csv(f'{work_dir}/trained_model/{model_name_epoch}_random_landmark_stringdb_records.txt',sep='\\t')\n",
        "total_interactions = pd.read_csv(f'{work_dir}/trained_model/{model_name_epoch}_HWgene_stringdb_records.txt',sep='\\t')"
      ],
      "execution_count": null,
      "outputs": []
    },
    {
      "cell_type": "code",
      "metadata": {
        "id": "YO3aPhFZrO5q",
        "colab": {
          "base_uri": "https://localhost:8080/",
          "height": 332
        },
        "outputId": "b32eecb9-db4e-4631-cf07-bc6fb324ecde"
      },
      "source": [
        "%matplotlib inline\n",
        "from scipy import stats\n",
        "\n",
        "# compare number of interactions\n",
        "rdata = random_gene_interaction.node_id.value_counts()\n",
        "hdata = total_interactions.node_id.value_counts()\n",
        "\n",
        "# perform t-test\n",
        "t, p = stats.ttest_ind(rdata, hdata)\n",
        "print('\\n\\nt-test p =', p)\n",
        "\n",
        "plt.close()\n",
        "data = [rdata, hdata]\n",
        "fig, ax = plt.subplots()\n",
        "ax.set_title('number of STRING DB interactions within one gene set')\n",
        "ax.set_xticklabels(['random gene set','high-weight gene set'])\n",
        "ax.boxplot(data)\n",
        "\n",
        "plt.show()"
      ],
      "execution_count": null,
      "outputs": [
        {
          "output_type": "stream",
          "text": [
            "\n",
            "\n",
            "t-test p = 0.0008602219652915392\n"
          ],
          "name": "stdout"
        },
        {
          "output_type": "display_data",
          "data": {
            "image/png": "[encoded data removed]",
            "text/plain": [
              "<Figure size 432x288 with 1 Axes>"
            ]
          },
          "metadata": {
            "tags": [],
            "needs_background": "light"
          }
        }
      ]
    },
    {
      "cell_type": "code",
      "metadata": {
        "colab": {
          "base_uri": "https://localhost:8080/",
          "height": 332
        },
        "id": "L5W2QWuMqOtu",
        "outputId": "a1c9bd2a-79f3-43f0-a13d-e64e625a1575"
      },
      "source": [
        "%matplotlib inline\n",
        "# compare combined_score of interactions\n",
        "#rdata = random_gene_interaction.combined_score   # all combined_score\n",
        "#hdata = total_interactions.combined_score  # all combined_score\n",
        "\n",
        "rdata = [random_gene_interaction.loc[random_gene_interaction.node_id == i].combined_score.mean() for i in range(50)]   # average combined_score for each node\n",
        "hdata = [total_interactions.loc[total_interactions.node_id == i].combined_score.mean() for i in range(50)]  # average combined_score for each node\n",
        "\n",
        "# perform t-test\n",
        "t, p = stats.ttest_ind(rdata, hdata)\n",
        "print('\\n\\nt-test p =', p)\n",
        "\n",
        "## plot the training and validation curve\n",
        "plt.close()\n",
        "\n",
        "data = [rdata, hdata]\n",
        "fig, ax = plt.subplots()\n",
        "ax.set_title('STRING DB score of interactions')\n",
        "ax.set_xticklabels(['random gene set','high-weight gene set'])\n",
        "ax.boxplot(data)\n",
        "\n",
        "plt.show()"
      ],
      "execution_count": null,
      "outputs": [
        {
          "output_type": "stream",
          "text": [
            "\n",
            "\n",
            "t-test p = 0.0025092139788756803\n"
          ],
          "name": "stdout"
        },
        {
          "output_type": "display_data",
          "data": {
            "image/png": "[encoded data removed]",
            "text/plain": [
              "<Figure size 432x288 with 1 Axes>"
            ]
          },
          "metadata": {
            "tags": [],
            "needs_background": "light"
          }
        }
      ]
    },
    {
      "cell_type": "markdown",
      "metadata": {
        "id": "vyNXDL0IqzAL"
      },
      "source": [
        "# Appendix: automatic tools\n",
        "\n"
      ]
    },
    {
      "cell_type": "markdown",
      "metadata": {
        "id": "w5Jj8VS_TZyR"
      },
      "source": [
        "## trainings with different hyper parameters"
      ]
    },
    {
      "cell_type": "code",
      "metadata": {
        "colab": {
          "base_uri": "https://localhost:8080/",
          "height": 1000
        },
        "id": "HhmTMVyRqyap",
        "outputId": "61f7c78b-fdbf-4099-f3f2-fd34d739d797"
      },
      "source": [
        "# define the dataframe to be used\n",
        "dataf = gene_expr_matrix\n",
        "\n",
        "noise_add = False\n",
        "#noise_add = True\n",
        "iteration_n = 10000\n",
        "\n",
        "for trial in [1, 2, 3]: # repeat 3 experiments for each model structure\n",
        "    if noise_add:\n",
        "        trial_name = f\"noise_trial{trial}\"\n",
        "    else:\n",
        "        trial_name = f\"trial{trial}\"\n",
        "\n",
        "    os.makedirs(f\"{work_dir}/trained_model/{trial_name}\", exist_ok=True)\n",
        "    # split datasets\n",
        "    train_data, valid_data = train_valid_split(dataf)\n",
        "    np.save(f\"{work_dir}/trained_model/{trial_name}/train_data_allsample_landmark_gene.npy\",train_data)\n",
        "    np.save(f\"{work_dir}/trained_model/{trial_name}/valid_data_allsample_landmark_gene.npy\",valid_data)\n",
        "\n",
        "    # initiate dataloader\n",
        "    train_loader = dataloader(train_data, 80)\n",
        "    valid_loader = dataloader(valid_data,80)\n",
        "\n",
        "    ##### auto train with different hyper-parameters\n",
        "    iteration_n = 10000\n",
        "\n",
        "    for node_n in [50, 100]:\n",
        "        for layers in [1, 5, 10]:\n",
        "\n",
        "            valid_point_epoch = 50\n",
        "            model_save_epoch = 500\n",
        "            learning_rate = 0.002\n",
        "\n",
        "            ## instantiate the model\n",
        "            DA = Adage_linear(train_data.shape[1], node_number=node_n, decoder_layers = layers)\n",
        "            print(\"{}\\nADAGE Network Architecture:\\n{}\\n{}\\n\".format(\"=\"*31, \"~\"*31, DA))\n",
        "            ## train the model\n",
        "            model_name = f\"{trial_name}/{layers}layers_{node_n}nodes_allsample_landmark_gene\"\n",
        "            DA = train_model(DA, model_name,noise=noise_add, valid_point_epoch = valid_point_epoch, model_save_epoch = model_save_epoch, iteration_n = iteration_n, print_train = False)\n",
        "\n"
      ],
      "execution_count": null,
      "outputs": [
        {
          "output_type": "stream",
          "text": [
            "samples in training data: 82635 \n",
            "samples in validation data: 35415\n",
            "===============================\n",
            "ADAGE Network Architecture:\n",
            "~~~~~~~~~~~~~~~~~~~~~~~~~~~~~~~\n",
            "Adage_linear(\n",
            "  (encoder): Sequential(\n",
            "    (0): Linear(in_features=978, out_features=50, bias=True)\n",
            "    (1): ReLU(inplace=True)\n",
            "  )\n",
            "  (decoder): Sequential(\n",
            "    (0): Linear(in_features=50, out_features=978, bias=True)\n",
            "  )\n",
            ")\n",
            "\n",
            "training start at Fri Apr 16 03:21:36 2021  __________________________________________________\n",
            "__________________________________________________ \n",
            "Finished Training at Fri Apr 16 03:22:07 2021 \n",
            "total training time: 31.40 s\n",
            "===============================\n",
            "ADAGE Network Architecture:\n",
            "~~~~~~~~~~~~~~~~~~~~~~~~~~~~~~~\n",
            "Adage_linear(\n",
            "  (encoder): Sequential(\n",
            "    (0): Linear(in_features=978, out_features=50, bias=True)\n",
            "    (1): ReLU(inplace=True)\n",
            "  )\n",
            "  (decoder): Sequential(\n",
            "    (0): Linear(in_features=50, out_features=235, bias=True)\n",
            "    (1): ReLU(inplace=True)\n",
            "    (2): Linear(in_features=235, out_features=420, bias=True)\n",
            "    (3): ReLU(inplace=True)\n",
            "    (4): Linear(in_features=420, out_features=605, bias=True)\n",
            "    (5): ReLU(inplace=True)\n",
            "    (6): Linear(in_features=605, out_features=790, bias=True)\n",
            "    (7): ReLU(inplace=True)\n",
            "    (8): Linear(in_features=790, out_features=978, bias=True)\n",
            "  )\n",
            ")\n",
            "\n",
            "training start at Fri Apr 16 03:22:07 2021  __________________________________________________\n",
            "__________________________________________________ \n",
            "Finished Training at Fri Apr 16 03:31:21 2021 \n",
            "total training time: 553.94 s\n",
            "===============================\n",
            "ADAGE Network Architecture:\n",
            "~~~~~~~~~~~~~~~~~~~~~~~~~~~~~~~\n",
            "Adage_linear(\n",
            "  (encoder): Sequential(\n",
            "    (0): Linear(in_features=978, out_features=50, bias=True)\n",
            "    (1): ReLU(inplace=True)\n",
            "  )\n",
            "  (decoder): Sequential(\n",
            "    (0): Linear(in_features=50, out_features=142, bias=True)\n",
            "    (1): ReLU(inplace=True)\n",
            "    (2): Linear(in_features=142, out_features=234, bias=True)\n",
            "    (3): ReLU(inplace=True)\n",
            "    (4): Linear(in_features=234, out_features=326, bias=True)\n",
            "    (5): ReLU(inplace=True)\n",
            "    (6): Linear(in_features=326, out_features=418, bias=True)\n",
            "    (7): ReLU(inplace=True)\n",
            "    (8): Linear(in_features=418, out_features=510, bias=True)\n",
            "    (9): ReLU(inplace=True)\n",
            "    (10): Linear(in_features=510, out_features=602, bias=True)\n",
            "    (11): ReLU(inplace=True)\n",
            "    (12): Linear(in_features=602, out_features=694, bias=True)\n",
            "    (13): ReLU(inplace=True)\n",
            "    (14): Linear(in_features=694, out_features=786, bias=True)\n",
            "    (15): ReLU(inplace=True)\n",
            "    (16): Linear(in_features=786, out_features=878, bias=True)\n",
            "    (17): ReLU(inplace=True)\n",
            "    (18): Linear(in_features=878, out_features=978, bias=True)\n",
            "  )\n",
            ")\n",
            "\n",
            "training start at Fri Apr 16 03:31:22 2021  __________________________________________________\n",
            "__________________________________________________ \n",
            "Finished Training at Fri Apr 16 03:51:06 2021 \n",
            "total training time: 1184.66 s\n",
            "===============================\n",
            "ADAGE Network Architecture:\n",
            "~~~~~~~~~~~~~~~~~~~~~~~~~~~~~~~\n",
            "Adage_linear(\n",
            "  (encoder): Sequential(\n",
            "    (0): Linear(in_features=978, out_features=100, bias=True)\n",
            "    (1): ReLU(inplace=True)\n",
            "  )\n",
            "  (decoder): Sequential(\n",
            "    (0): Linear(in_features=100, out_features=978, bias=True)\n",
            "  )\n",
            ")\n",
            "\n",
            "training start at Fri Apr 16 03:51:06 2021  __________________________________________________\n",
            "__________________________________________________ \n",
            "Finished Training at Fri Apr 16 03:51:53 2021 \n",
            "total training time: 46.20 s\n",
            "===============================\n",
            "ADAGE Network Architecture:\n",
            "~~~~~~~~~~~~~~~~~~~~~~~~~~~~~~~\n",
            "Adage_linear(\n",
            "  (encoder): Sequential(\n",
            "    (0): Linear(in_features=978, out_features=100, bias=True)\n",
            "    (1): ReLU(inplace=True)\n",
            "  )\n",
            "  (decoder): Sequential(\n",
            "    (0): Linear(in_features=100, out_features=275, bias=True)\n",
            "    (1): ReLU(inplace=True)\n",
            "    (2): Linear(in_features=275, out_features=450, bias=True)\n",
            "    (3): ReLU(inplace=True)\n",
            "    (4): Linear(in_features=450, out_features=625, bias=True)\n",
            "    (5): ReLU(inplace=True)\n",
            "    (6): Linear(in_features=625, out_features=800, bias=True)\n",
            "    (7): ReLU(inplace=True)\n",
            "    (8): Linear(in_features=800, out_features=978, bias=True)\n",
            "  )\n",
            ")\n",
            "\n",
            "training start at Fri Apr 16 03:51:53 2021  __________________________________________________\n",
            "__________________________________________________ \n",
            "Finished Training at Fri Apr 16 04:01:53 2021 \n",
            "total training time: 600.45 s\n",
            "===============================\n",
            "ADAGE Network Architecture:\n",
            "~~~~~~~~~~~~~~~~~~~~~~~~~~~~~~~\n",
            "Adage_linear(\n",
            "  (encoder): Sequential(\n",
            "    (0): Linear(in_features=978, out_features=100, bias=True)\n",
            "    (1): ReLU(inplace=True)\n",
            "  )\n",
            "  (decoder): Sequential(\n",
            "    (0): Linear(in_features=100, out_features=187, bias=True)\n",
            "    (1): ReLU(inplace=True)\n",
            "    (2): Linear(in_features=187, out_features=274, bias=True)\n",
            "    (3): ReLU(inplace=True)\n",
            "    (4): Linear(in_features=274, out_features=361, bias=True)\n",
            "    (5): ReLU(inplace=True)\n",
            "    (6): Linear(in_features=361, out_features=448, bias=True)\n",
            "    (7): ReLU(inplace=True)\n",
            "    (8): Linear(in_features=448, out_features=535, bias=True)\n",
            "    (9): ReLU(inplace=True)\n",
            "    (10): Linear(in_features=535, out_features=622, bias=True)\n",
            "    (11): ReLU(inplace=True)\n",
            "    (12): Linear(in_features=622, out_features=709, bias=True)\n",
            "    (13): ReLU(inplace=True)\n",
            "    (14): Linear(in_features=709, out_features=796, bias=True)\n",
            "    (15): ReLU(inplace=True)\n",
            "    (16): Linear(in_features=796, out_features=883, bias=True)\n",
            "    (17): ReLU(inplace=True)\n",
            "    (18): Linear(in_features=883, out_features=978, bias=True)\n",
            "  )\n",
            ")\n",
            "\n",
            "training start at Fri Apr 16 04:01:53 2021  __________________________________________________\n",
            "__________________________________________________ \n",
            "Finished Training at Fri Apr 16 04:23:31 2021 \n",
            "total training time: 1297.13 s\n",
            "samples in training data: 82635 \n",
            "samples in validation data: 35415\n",
            "===============================\n",
            "ADAGE Network Architecture:\n",
            "~~~~~~~~~~~~~~~~~~~~~~~~~~~~~~~\n",
            "Adage_linear(\n",
            "  (encoder): Sequential(\n",
            "    (0): Linear(in_features=978, out_features=50, bias=True)\n",
            "    (1): ReLU(inplace=True)\n",
            "  )\n",
            "  (decoder): Sequential(\n",
            "    (0): Linear(in_features=50, out_features=978, bias=True)\n",
            "  )\n",
            ")\n",
            "\n",
            "training start at Fri Apr 16 04:23:35 2021  __________________________________________________\n",
            "__________________________________________________ \n",
            "Finished Training at Fri Apr 16 04:24:03 2021 \n",
            "total training time: 28.67 s\n",
            "===============================\n",
            "ADAGE Network Architecture:\n",
            "~~~~~~~~~~~~~~~~~~~~~~~~~~~~~~~\n",
            "Adage_linear(\n",
            "  (encoder): Sequential(\n",
            "    (0): Linear(in_features=978, out_features=50, bias=True)\n",
            "    (1): ReLU(inplace=True)\n",
            "  )\n",
            "  (decoder): Sequential(\n",
            "    (0): Linear(in_features=50, out_features=235, bias=True)\n",
            "    (1): ReLU(inplace=True)\n",
            "    (2): Linear(in_features=235, out_features=420, bias=True)\n",
            "    (3): ReLU(inplace=True)\n",
            "    (4): Linear(in_features=420, out_features=605, bias=True)\n",
            "    (5): ReLU(inplace=True)\n",
            "    (6): Linear(in_features=605, out_features=790, bias=True)\n",
            "    (7): ReLU(inplace=True)\n",
            "    (8): Linear(in_features=790, out_features=978, bias=True)\n",
            "  )\n",
            ")\n",
            "\n",
            "training start at Fri Apr 16 04:24:03 2021  __________________________________________________\n",
            "__________________________________________________ \n",
            "Finished Training at Fri Apr 16 04:33:20 2021 \n",
            "total training time: 556.64 s\n",
            "===============================\n",
            "ADAGE Network Architecture:\n",
            "~~~~~~~~~~~~~~~~~~~~~~~~~~~~~~~\n",
            "Adage_linear(\n",
            "  (encoder): Sequential(\n",
            "    (0): Linear(in_features=978, out_features=50, bias=True)\n",
            "    (1): ReLU(inplace=True)\n",
            "  )\n",
            "  (decoder): Sequential(\n",
            "    (0): Linear(in_features=50, out_features=142, bias=True)\n",
            "    (1): ReLU(inplace=True)\n",
            "    (2): Linear(in_features=142, out_features=234, bias=True)\n",
            "    (3): ReLU(inplace=True)\n",
            "    (4): Linear(in_features=234, out_features=326, bias=True)\n",
            "    (5): ReLU(inplace=True)\n",
            "    (6): Linear(in_features=326, out_features=418, bias=True)\n",
            "    (7): ReLU(inplace=True)\n",
            "    (8): Linear(in_features=418, out_features=510, bias=True)\n",
            "    (9): ReLU(inplace=True)\n",
            "    (10): Linear(in_features=510, out_features=602, bias=True)\n",
            "    (11): ReLU(inplace=True)\n",
            "    (12): Linear(in_features=602, out_features=694, bias=True)\n",
            "    (13): ReLU(inplace=True)\n",
            "    (14): Linear(in_features=694, out_features=786, bias=True)\n",
            "    (15): ReLU(inplace=True)\n",
            "    (16): Linear(in_features=786, out_features=878, bias=True)\n",
            "    (17): ReLU(inplace=True)\n",
            "    (18): Linear(in_features=878, out_features=978, bias=True)\n",
            "  )\n",
            ")\n",
            "\n",
            "training start at Fri Apr 16 04:33:20 2021  __________________________________________________\n",
            "__________________________________________________ \n",
            "Finished Training at Fri Apr 16 04:53:22 2021 \n",
            "total training time: 1201.52 s\n",
            "===============================\n",
            "ADAGE Network Architecture:\n",
            "~~~~~~~~~~~~~~~~~~~~~~~~~~~~~~~\n",
            "Adage_linear(\n",
            "  (encoder): Sequential(\n",
            "    (0): Linear(in_features=978, out_features=100, bias=True)\n",
            "    (1): ReLU(inplace=True)\n",
            "  )\n",
            "  (decoder): Sequential(\n",
            "    (0): Linear(in_features=100, out_features=978, bias=True)\n",
            "  )\n",
            ")\n",
            "\n",
            "training start at Fri Apr 16 04:53:22 2021  __________________________________________________\n",
            "__________________________________________________ \n",
            "Finished Training at Fri Apr 16 04:54:05 2021 \n",
            "total training time: 42.58 s\n",
            "===============================\n",
            "ADAGE Network Architecture:\n",
            "~~~~~~~~~~~~~~~~~~~~~~~~~~~~~~~\n",
            "Adage_linear(\n",
            "  (encoder): Sequential(\n",
            "    (0): Linear(in_features=978, out_features=100, bias=True)\n",
            "    (1): ReLU(inplace=True)\n",
            "  )\n",
            "  (decoder): Sequential(\n",
            "    (0): Linear(in_features=100, out_features=275, bias=True)\n",
            "    (1): ReLU(inplace=True)\n",
            "    (2): Linear(in_features=275, out_features=450, bias=True)\n",
            "    (3): ReLU(inplace=True)\n",
            "    (4): Linear(in_features=450, out_features=625, bias=True)\n",
            "    (5): ReLU(inplace=True)\n",
            "    (6): Linear(in_features=625, out_features=800, bias=True)\n",
            "    (7): ReLU(inplace=True)\n",
            "    (8): Linear(in_features=800, out_features=978, bias=True)\n",
            "  )\n",
            ")\n",
            "\n",
            "training start at Fri Apr 16 04:54:05 2021  __________________________________________________\n",
            "__________________________________________________ \n",
            "Finished Training at Fri Apr 16 05:03:59 2021 \n",
            "total training time: 594.26 s\n",
            "===============================\n",
            "ADAGE Network Architecture:\n",
            "~~~~~~~~~~~~~~~~~~~~~~~~~~~~~~~\n",
            "Adage_linear(\n",
            "  (encoder): Sequential(\n",
            "    (0): Linear(in_features=978, out_features=100, bias=True)\n",
            "    (1): ReLU(inplace=True)\n",
            "  )\n",
            "  (decoder): Sequential(\n",
            "    (0): Linear(in_features=100, out_features=187, bias=True)\n",
            "    (1): ReLU(inplace=True)\n",
            "    (2): Linear(in_features=187, out_features=274, bias=True)\n",
            "    (3): ReLU(inplace=True)\n",
            "    (4): Linear(in_features=274, out_features=361, bias=True)\n",
            "    (5): ReLU(inplace=True)\n",
            "    (6): Linear(in_features=361, out_features=448, bias=True)\n",
            "    (7): ReLU(inplace=True)\n",
            "    (8): Linear(in_features=448, out_features=535, bias=True)\n",
            "    (9): ReLU(inplace=True)\n",
            "    (10): Linear(in_features=535, out_features=622, bias=True)\n",
            "    (11): ReLU(inplace=True)\n",
            "    (12): Linear(in_features=622, out_features=709, bias=True)\n",
            "    (13): ReLU(inplace=True)\n",
            "    (14): Linear(in_features=709, out_features=796, bias=True)\n",
            "    (15): ReLU(inplace=True)\n",
            "    (16): Linear(in_features=796, out_features=883, bias=True)\n",
            "    (17): ReLU(inplace=True)\n",
            "    (18): Linear(in_features=883, out_features=978, bias=True)\n",
            "  )\n",
            ")\n",
            "\n",
            "training start at Fri Apr 16 05:03:59 2021  __________________________________________________\n",
            "__________________________________________________ \n",
            "Finished Training at Fri Apr 16 05:25:40 2021 \n",
            "total training time: 1300.69 s\n",
            "samples in training data: 82635 \n",
            "samples in validation data: 35415\n",
            "===============================\n",
            "ADAGE Network Architecture:\n",
            "~~~~~~~~~~~~~~~~~~~~~~~~~~~~~~~\n",
            "Adage_linear(\n",
            "  (encoder): Sequential(\n",
            "    (0): Linear(in_features=978, out_features=50, bias=True)\n",
            "    (1): ReLU(inplace=True)\n",
            "  )\n",
            "  (decoder): Sequential(\n",
            "    (0): Linear(in_features=50, out_features=978, bias=True)\n",
            "  )\n",
            ")\n",
            "\n",
            "training start at Fri Apr 16 05:25:44 2021  __________________________________________________\n",
            "__________________________________________________ \n",
            "Finished Training at Fri Apr 16 05:26:18 2021 \n",
            "total training time: 34.41 s\n",
            "===============================\n",
            "ADAGE Network Architecture:\n",
            "~~~~~~~~~~~~~~~~~~~~~~~~~~~~~~~\n",
            "Adage_linear(\n",
            "  (encoder): Sequential(\n",
            "    (0): Linear(in_features=978, out_features=50, bias=True)\n",
            "    (1): ReLU(inplace=True)\n",
            "  )\n",
            "  (decoder): Sequential(\n",
            "    (0): Linear(in_features=50, out_features=235, bias=True)\n",
            "    (1): ReLU(inplace=True)\n",
            "    (2): Linear(in_features=235, out_features=420, bias=True)\n",
            "    (3): ReLU(inplace=True)\n",
            "    (4): Linear(in_features=420, out_features=605, bias=True)\n",
            "    (5): ReLU(inplace=True)\n",
            "    (6): Linear(in_features=605, out_features=790, bias=True)\n",
            "    (7): ReLU(inplace=True)\n",
            "    (8): Linear(in_features=790, out_features=978, bias=True)\n",
            "  )\n",
            ")\n",
            "\n",
            "training start at Fri Apr 16 05:26:18 2021  __________________________________________________\n",
            "__________________________________________________ \n",
            "Finished Training at Fri Apr 16 05:35:36 2021 \n",
            "total training time: 558.27 s\n",
            "===============================\n",
            "ADAGE Network Architecture:\n",
            "~~~~~~~~~~~~~~~~~~~~~~~~~~~~~~~\n",
            "Adage_linear(\n",
            "  (encoder): Sequential(\n",
            "    (0): Linear(in_features=978, out_features=50, bias=True)\n",
            "    (1): ReLU(inplace=True)\n",
            "  )\n",
            "  (decoder): Sequential(\n",
            "    (0): Linear(in_features=50, out_features=142, bias=True)\n",
            "    (1): ReLU(inplace=True)\n",
            "    (2): Linear(in_features=142, out_features=234, bias=True)\n",
            "    (3): ReLU(inplace=True)\n",
            "    (4): Linear(in_features=234, out_features=326, bias=True)\n",
            "    (5): ReLU(inplace=True)\n",
            "    (6): Linear(in_features=326, out_features=418, bias=True)\n",
            "    (7): ReLU(inplace=True)\n",
            "    (8): Linear(in_features=418, out_features=510, bias=True)\n",
            "    (9): ReLU(inplace=True)\n",
            "    (10): Linear(in_features=510, out_features=602, bias=True)\n",
            "    (11): ReLU(inplace=True)\n",
            "    (12): Linear(in_features=602, out_features=694, bias=True)\n",
            "    (13): ReLU(inplace=True)\n",
            "    (14): Linear(in_features=694, out_features=786, bias=True)\n",
            "    (15): ReLU(inplace=True)\n",
            "    (16): Linear(in_features=786, out_features=878, bias=True)\n",
            "    (17): ReLU(inplace=True)\n",
            "    (18): Linear(in_features=878, out_features=978, bias=True)\n",
            "  )\n",
            ")\n",
            "\n",
            "training start at Fri Apr 16 05:35:37 2021  __________________________________________________\n",
            "__________________________________________________ \n",
            "Finished Training at Fri Apr 16 05:55:24 2021 \n",
            "total training time: 1187.58 s\n",
            "===============================\n",
            "ADAGE Network Architecture:\n",
            "~~~~~~~~~~~~~~~~~~~~~~~~~~~~~~~\n",
            "Adage_linear(\n",
            "  (encoder): Sequential(\n",
            "    (0): Linear(in_features=978, out_features=100, bias=True)\n",
            "    (1): ReLU(inplace=True)\n",
            "  )\n",
            "  (decoder): Sequential(\n",
            "    (0): Linear(in_features=100, out_features=978, bias=True)\n",
            "  )\n",
            ")\n",
            "\n",
            "training start at Fri Apr 16 05:55:24 2021  __________________________________________________\n",
            "__________________________________________________ \n",
            "Finished Training at Fri Apr 16 05:56:06 2021 \n",
            "total training time: 41.98 s\n",
            "===============================\n",
            "ADAGE Network Architecture:\n",
            "~~~~~~~~~~~~~~~~~~~~~~~~~~~~~~~\n",
            "Adage_linear(\n",
            "  (encoder): Sequential(\n",
            "    (0): Linear(in_features=978, out_features=100, bias=True)\n",
            "    (1): ReLU(inplace=True)\n",
            "  )\n",
            "  (decoder): Sequential(\n",
            "    (0): Linear(in_features=100, out_features=275, bias=True)\n",
            "    (1): ReLU(inplace=True)\n",
            "    (2): Linear(in_features=275, out_features=450, bias=True)\n",
            "    (3): ReLU(inplace=True)\n",
            "    (4): Linear(in_features=450, out_features=625, bias=True)\n",
            "    (5): ReLU(inplace=True)\n",
            "    (6): Linear(in_features=625, out_features=800, bias=True)\n",
            "    (7): ReLU(inplace=True)\n",
            "    (8): Linear(in_features=800, out_features=978, bias=True)\n",
            "  )\n",
            ")\n",
            "\n",
            "training start at Fri Apr 16 05:56:07 2021  __________________________________________________\n",
            "__________________________________________________ \n",
            "Finished Training at Fri Apr 16 06:05:57 2021 \n",
            "total training time: 589.94 s\n",
            "===============================\n",
            "ADAGE Network Architecture:\n",
            "~~~~~~~~~~~~~~~~~~~~~~~~~~~~~~~\n",
            "Adage_linear(\n",
            "  (encoder): Sequential(\n",
            "    (0): Linear(in_features=978, out_features=100, bias=True)\n",
            "    (1): ReLU(inplace=True)\n",
            "  )\n",
            "  (decoder): Sequential(\n",
            "    (0): Linear(in_features=100, out_features=187, bias=True)\n",
            "    (1): ReLU(inplace=True)\n",
            "    (2): Linear(in_features=187, out_features=274, bias=True)\n",
            "    (3): ReLU(inplace=True)\n",
            "    (4): Linear(in_features=274, out_features=361, bias=True)\n",
            "    (5): ReLU(inplace=True)\n",
            "    (6): Linear(in_features=361, out_features=448, bias=True)\n",
            "    (7): ReLU(inplace=True)\n",
            "    (8): Linear(in_features=448, out_features=535, bias=True)\n",
            "    (9): ReLU(inplace=True)\n",
            "    (10): Linear(in_features=535, out_features=622, bias=True)\n",
            "    (11): ReLU(inplace=True)\n",
            "    (12): Linear(in_features=622, out_features=709, bias=True)\n",
            "    (13): ReLU(inplace=True)\n",
            "    (14): Linear(in_features=709, out_features=796, bias=True)\n",
            "    (15): ReLU(inplace=True)\n",
            "    (16): Linear(in_features=796, out_features=883, bias=True)\n",
            "    (17): ReLU(inplace=True)\n",
            "    (18): Linear(in_features=883, out_features=978, bias=True)\n",
            "  )\n",
            ")\n",
            "\n",
            "training start at Fri Apr 16 06:05:57 2021  __________________________________________________\n",
            "__________________________________________________ \n",
            "Finished Training at Fri Apr 16 06:27:15 2021 \n",
            "total training time: 1277.54 s\n"
          ],
          "name": "stdout"
        },
        {
          "output_type": "display_data",
          "data": {
            "image/png": "[encoded data removed]",
            "text/plain": [
              "<Figure size 432x288 with 1 Axes>"
            ]
          },
          "metadata": {
            "tags": [],
            "needs_background": "light"
          }
        }
      ]
    },
    {
      "cell_type": "code",
      "metadata": {
        "colab": {
          "base_uri": "https://localhost:8080/",
          "height": 1000
        },
        "id": "IsV4QydAyuqe",
        "outputId": "b9751a09-d23f-449e-804a-fc4757070abc"
      },
      "source": [
        "# define the dataframe to be used\n",
        "dataf = gene_expr_matrix\n",
        "noise_add = True\n",
        "iteration_n = 10000\n",
        "\n",
        "for trial in [1, 2, 3]: # repeat 3 experiments for each model structure\n",
        "    if noise_add:\n",
        "        trial_name = f\"noise_trial{trial}\"\n",
        "    else:\n",
        "        trial_name = f\"trial{trial}\"\n",
        "\n",
        "    os.makedirs(f\"{work_dir}/trained_model/{trial_name}\", exist_ok=True)\n",
        "    # split datasets\n",
        "    train_data, valid_data = train_valid_split(dataf)\n",
        "    np.save(f\"{work_dir}/trained_model/{trial_name}/train_data_allsample_landmark_gene.npy\",train_data)\n",
        "    np.save(f\"{work_dir}/trained_model/{trial_name}/valid_data_allsample_landmark_gene.npy\",valid_data)\n",
        "\n",
        "    # initiate dataloader\n",
        "    train_loader = dataloader(train_data, 80)\n",
        "    valid_loader = dataloader(valid_data,80)\n",
        "\n",
        "    ##### auto train with different hyper-parameters\n",
        "    iteration_n = 10000\n",
        "\n",
        "    for node_n in [50, 100]:\n",
        "        for layers in [1, 5, 10]:\n",
        "\n",
        "            valid_point_epoch = 50\n",
        "            model_save_epoch = 500\n",
        "            learning_rate = 0.002\n",
        "\n",
        "            ## instantiate the model\n",
        "            DA = Adage_linear(train_data.shape[1], node_number=node_n, decoder_layers = layers)\n",
        "            print(\"{}\\nADAGE Network Architecture:\\n{}\\n{}\\n\".format(\"=\"*31, \"~\"*31, DA))\n",
        "            ## train the model\n",
        "            model_name = f\"{trial_name}/{layers}layers_{node_n}nodes_allsample_landmark_gene\"\n",
        "            DA = train_model(DA, model_name,noise=noise_add, valid_point_epoch = valid_point_epoch, model_save_epoch = model_save_epoch, iteration_n = iteration_n, print_train = False)\n",
        "\n"
      ],
      "execution_count": null,
      "outputs": [
        {
          "output_type": "stream",
          "text": [
            "samples in training data: 82635 \n",
            "samples in validation data: 35415\n",
            "===============================\n",
            "ADAGE Network Architecture:\n",
            "~~~~~~~~~~~~~~~~~~~~~~~~~~~~~~~\n",
            "Adage_linear(\n",
            "  (encoder): Sequential(\n",
            "    (0): Linear(in_features=978, out_features=50, bias=True)\n",
            "    (1): ReLU(inplace=True)\n",
            "  )\n",
            "  (decoder): Sequential(\n",
            "    (0): Linear(in_features=50, out_features=978, bias=True)\n",
            "  )\n",
            ")\n",
            "\n",
            "training start at Fri Apr 16 06:27:20 2021  __________________________________________________\n",
            "__________________________________________________ \n",
            "Finished Training at Fri Apr 16 06:28:54 2021 \n",
            "total training time: 94.03 s\n",
            "===============================\n",
            "ADAGE Network Architecture:\n",
            "~~~~~~~~~~~~~~~~~~~~~~~~~~~~~~~\n",
            "Adage_linear(\n",
            "  (encoder): Sequential(\n",
            "    (0): Linear(in_features=978, out_features=50, bias=True)\n",
            "    (1): ReLU(inplace=True)\n",
            "  )\n",
            "  (decoder): Sequential(\n",
            "    (0): Linear(in_features=50, out_features=235, bias=True)\n",
            "    (1): ReLU(inplace=True)\n",
            "    (2): Linear(in_features=235, out_features=420, bias=True)\n",
            "    (3): ReLU(inplace=True)\n",
            "    (4): Linear(in_features=420, out_features=605, bias=True)\n",
            "    (5): ReLU(inplace=True)\n",
            "    (6): Linear(in_features=605, out_features=790, bias=True)\n",
            "    (7): ReLU(inplace=True)\n",
            "    (8): Linear(in_features=790, out_features=978, bias=True)\n",
            "  )\n",
            ")\n",
            "\n",
            "training start at Fri Apr 16 06:28:54 2021  __________________________________________________\n",
            "__________________________________________________ \n",
            "Finished Training at Fri Apr 16 06:39:19 2021 \n",
            "total training time: 625.13 s\n",
            "===============================\n",
            "ADAGE Network Architecture:\n",
            "~~~~~~~~~~~~~~~~~~~~~~~~~~~~~~~\n",
            "Adage_linear(\n",
            "  (encoder): Sequential(\n",
            "    (0): Linear(in_features=978, out_features=50, bias=True)\n",
            "    (1): ReLU(inplace=True)\n",
            "  )\n",
            "  (decoder): Sequential(\n",
            "    (0): Linear(in_features=50, out_features=142, bias=True)\n",
            "    (1): ReLU(inplace=True)\n",
            "    (2): Linear(in_features=142, out_features=234, bias=True)\n",
            "    (3): ReLU(inplace=True)\n",
            "    (4): Linear(in_features=234, out_features=326, bias=True)\n",
            "    (5): ReLU(inplace=True)\n",
            "    (6): Linear(in_features=326, out_features=418, bias=True)\n",
            "    (7): ReLU(inplace=True)\n",
            "    (8): Linear(in_features=418, out_features=510, bias=True)\n",
            "    (9): ReLU(inplace=True)\n",
            "    (10): Linear(in_features=510, out_features=602, bias=True)\n",
            "    (11): ReLU(inplace=True)\n",
            "    (12): Linear(in_features=602, out_features=694, bias=True)\n",
            "    (13): ReLU(inplace=True)\n",
            "    (14): Linear(in_features=694, out_features=786, bias=True)\n",
            "    (15): ReLU(inplace=True)\n",
            "    (16): Linear(in_features=786, out_features=878, bias=True)\n",
            "    (17): ReLU(inplace=True)\n",
            "    (18): Linear(in_features=878, out_features=978, bias=True)\n",
            "  )\n",
            ")\n",
            "\n",
            "training start at Fri Apr 16 06:39:20 2021  __________________________________________________\n",
            "__________________________________________________ \n",
            "Finished Training at Fri Apr 16 07:00:40 2021 \n",
            "total training time: 1280.89 s\n",
            "===============================\n",
            "ADAGE Network Architecture:\n",
            "~~~~~~~~~~~~~~~~~~~~~~~~~~~~~~~\n",
            "Adage_linear(\n",
            "  (encoder): Sequential(\n",
            "    (0): Linear(in_features=978, out_features=100, bias=True)\n",
            "    (1): ReLU(inplace=True)\n",
            "  )\n",
            "  (decoder): Sequential(\n",
            "    (0): Linear(in_features=100, out_features=978, bias=True)\n",
            "  )\n",
            ")\n",
            "\n",
            "training start at Fri Apr 16 07:00:41 2021  __________________________________________________\n",
            "__________________________________________________ \n",
            "Finished Training at Fri Apr 16 07:02:34 2021 \n",
            "total training time: 113.26 s\n",
            "===============================\n",
            "ADAGE Network Architecture:\n",
            "~~~~~~~~~~~~~~~~~~~~~~~~~~~~~~~\n",
            "Adage_linear(\n",
            "  (encoder): Sequential(\n",
            "    (0): Linear(in_features=978, out_features=100, bias=True)\n",
            "    (1): ReLU(inplace=True)\n",
            "  )\n",
            "  (decoder): Sequential(\n",
            "    (0): Linear(in_features=100, out_features=275, bias=True)\n",
            "    (1): ReLU(inplace=True)\n",
            "    (2): Linear(in_features=275, out_features=450, bias=True)\n",
            "    (3): ReLU(inplace=True)\n",
            "    (4): Linear(in_features=450, out_features=625, bias=True)\n",
            "    (5): ReLU(inplace=True)\n",
            "    (6): Linear(in_features=625, out_features=800, bias=True)\n",
            "    (7): ReLU(inplace=True)\n",
            "    (8): Linear(in_features=800, out_features=978, bias=True)\n",
            "  )\n",
            ")\n",
            "\n",
            "training start at Fri Apr 16 07:02:34 2021  __________________________________________________\n",
            "__________________________________________________ \n",
            "Finished Training at Fri Apr 16 07:13:37 2021 \n",
            "total training time: 662.38 s\n",
            "===============================\n",
            "ADAGE Network Architecture:\n",
            "~~~~~~~~~~~~~~~~~~~~~~~~~~~~~~~\n",
            "Adage_linear(\n",
            "  (encoder): Sequential(\n",
            "    (0): Linear(in_features=978, out_features=100, bias=True)\n",
            "    (1): ReLU(inplace=True)\n",
            "  )\n",
            "  (decoder): Sequential(\n",
            "    (0): Linear(in_features=100, out_features=187, bias=True)\n",
            "    (1): ReLU(inplace=True)\n",
            "    (2): Linear(in_features=187, out_features=274, bias=True)\n",
            "    (3): ReLU(inplace=True)\n",
            "    (4): Linear(in_features=274, out_features=361, bias=True)\n",
            "    (5): ReLU(inplace=True)\n",
            "    (6): Linear(in_features=361, out_features=448, bias=True)\n",
            "    (7): ReLU(inplace=True)\n",
            "    (8): Linear(in_features=448, out_features=535, bias=True)\n",
            "    (9): ReLU(inplace=True)\n",
            "    (10): Linear(in_features=535, out_features=622, bias=True)\n",
            "    (11): ReLU(inplace=True)\n",
            "    (12): Linear(in_features=622, out_features=709, bias=True)\n",
            "    (13): ReLU(inplace=True)\n",
            "    (14): Linear(in_features=709, out_features=796, bias=True)\n",
            "    (15): ReLU(inplace=True)\n",
            "    (16): Linear(in_features=796, out_features=883, bias=True)\n",
            "    (17): ReLU(inplace=True)\n",
            "    (18): Linear(in_features=883, out_features=978, bias=True)\n",
            "  )\n",
            ")\n",
            "\n",
            "training start at Fri Apr 16 07:13:37 2021  __________________________________________________\n",
            "__________________________________________________ \n",
            "Finished Training at Fri Apr 16 07:35:39 2021 \n",
            "total training time: 1322.25 s\n",
            "samples in training data: 82635 \n",
            "samples in validation data: 35415\n",
            "===============================\n",
            "ADAGE Network Architecture:\n",
            "~~~~~~~~~~~~~~~~~~~~~~~~~~~~~~~\n",
            "Adage_linear(\n",
            "  (encoder): Sequential(\n",
            "    (0): Linear(in_features=978, out_features=50, bias=True)\n",
            "    (1): ReLU(inplace=True)\n",
            "  )\n",
            "  (decoder): Sequential(\n",
            "    (0): Linear(in_features=50, out_features=978, bias=True)\n",
            "  )\n",
            ")\n",
            "\n",
            "training start at Fri Apr 16 07:35:43 2021  __________________________________________________\n",
            "__________________________________________________ \n",
            "Finished Training at Fri Apr 16 07:37:17 2021 \n",
            "total training time: 94.54 s\n",
            "===============================\n",
            "ADAGE Network Architecture:\n",
            "~~~~~~~~~~~~~~~~~~~~~~~~~~~~~~~\n",
            "Adage_linear(\n",
            "  (encoder): Sequential(\n",
            "    (0): Linear(in_features=978, out_features=50, bias=True)\n",
            "    (1): ReLU(inplace=True)\n",
            "  )\n",
            "  (decoder): Sequential(\n",
            "    (0): Linear(in_features=50, out_features=235, bias=True)\n",
            "    (1): ReLU(inplace=True)\n",
            "    (2): Linear(in_features=235, out_features=420, bias=True)\n",
            "    (3): ReLU(inplace=True)\n",
            "    (4): Linear(in_features=420, out_features=605, bias=True)\n",
            "    (5): ReLU(inplace=True)\n",
            "    (6): Linear(in_features=605, out_features=790, bias=True)\n",
            "    (7): ReLU(inplace=True)\n",
            "    (8): Linear(in_features=790, out_features=978, bias=True)\n",
            "  )\n",
            ")\n",
            "\n",
            "training start at Fri Apr 16 07:37:17 2021  __________________________________________________\n",
            "__________________________________________________ \n",
            "Finished Training at Fri Apr 16 07:47:44 2021 \n",
            "total training time: 626.64 s\n",
            "===============================\n",
            "ADAGE Network Architecture:\n",
            "~~~~~~~~~~~~~~~~~~~~~~~~~~~~~~~\n",
            "Adage_linear(\n",
            "  (encoder): Sequential(\n",
            "    (0): Linear(in_features=978, out_features=50, bias=True)\n",
            "    (1): ReLU(inplace=True)\n",
            "  )\n",
            "  (decoder): Sequential(\n",
            "    (0): Linear(in_features=50, out_features=142, bias=True)\n",
            "    (1): ReLU(inplace=True)\n",
            "    (2): Linear(in_features=142, out_features=234, bias=True)\n",
            "    (3): ReLU(inplace=True)\n",
            "    (4): Linear(in_features=234, out_features=326, bias=True)\n",
            "    (5): ReLU(inplace=True)\n",
            "    (6): Linear(in_features=326, out_features=418, bias=True)\n",
            "    (7): ReLU(inplace=True)\n",
            "    (8): Linear(in_features=418, out_features=510, bias=True)\n",
            "    (9): ReLU(inplace=True)\n",
            "    (10): Linear(in_features=510, out_features=602, bias=True)\n",
            "    (11): ReLU(inplace=True)\n",
            "    (12): Linear(in_features=602, out_features=694, bias=True)\n",
            "    (13): ReLU(inplace=True)\n",
            "    (14): Linear(in_features=694, out_features=786, bias=True)\n",
            "    (15): ReLU(inplace=True)\n",
            "    (16): Linear(in_features=786, out_features=878, bias=True)\n",
            "    (17): ReLU(inplace=True)\n",
            "    (18): Linear(in_features=878, out_features=978, bias=True)\n",
            "  )\n",
            ")\n",
            "\n",
            "training start at Fri Apr 16 07:47:44 2021  __________________________________________________\n",
            "__________________________________________________ \n",
            "Finished Training at Fri Apr 16 08:08:44 2021 \n",
            "total training time: 1259.42 s\n",
            "===============================\n",
            "ADAGE Network Architecture:\n",
            "~~~~~~~~~~~~~~~~~~~~~~~~~~~~~~~\n",
            "Adage_linear(\n",
            "  (encoder): Sequential(\n",
            "    (0): Linear(in_features=978, out_features=100, bias=True)\n",
            "    (1): ReLU(inplace=True)\n",
            "  )\n",
            "  (decoder): Sequential(\n",
            "    (0): Linear(in_features=100, out_features=978, bias=True)\n",
            "  )\n",
            ")\n",
            "\n",
            "training start at Fri Apr 16 08:08:44 2021  __________________________________________________\n",
            "__________________________________________________ \n",
            "Finished Training at Fri Apr 16 08:10:34 2021 \n",
            "total training time: 110.49 s\n",
            "===============================\n",
            "ADAGE Network Architecture:\n",
            "~~~~~~~~~~~~~~~~~~~~~~~~~~~~~~~\n",
            "Adage_linear(\n",
            "  (encoder): Sequential(\n",
            "    (0): Linear(in_features=978, out_features=100, bias=True)\n",
            "    (1): ReLU(inplace=True)\n",
            "  )\n",
            "  (decoder): Sequential(\n",
            "    (0): Linear(in_features=100, out_features=275, bias=True)\n",
            "    (1): ReLU(inplace=True)\n",
            "    (2): Linear(in_features=275, out_features=450, bias=True)\n",
            "    (3): ReLU(inplace=True)\n",
            "    (4): Linear(in_features=450, out_features=625, bias=True)\n",
            "    (5): ReLU(inplace=True)\n",
            "    (6): Linear(in_features=625, out_features=800, bias=True)\n",
            "    (7): ReLU(inplace=True)\n",
            "    (8): Linear(in_features=800, out_features=978, bias=True)\n",
            "  )\n",
            ")\n",
            "\n",
            "training start at Fri Apr 16 08:10:35 2021  __________________________________________________\n",
            "__________________________________________________ \n",
            "Finished Training at Fri Apr 16 08:21:34 2021 \n",
            "total training time: 659.82 s\n",
            "===============================\n",
            "ADAGE Network Architecture:\n",
            "~~~~~~~~~~~~~~~~~~~~~~~~~~~~~~~\n",
            "Adage_linear(\n",
            "  (encoder): Sequential(\n",
            "    (0): Linear(in_features=978, out_features=100, bias=True)\n",
            "    (1): ReLU(inplace=True)\n",
            "  )\n",
            "  (decoder): Sequential(\n",
            "    (0): Linear(in_features=100, out_features=187, bias=True)\n",
            "    (1): ReLU(inplace=True)\n",
            "    (2): Linear(in_features=187, out_features=274, bias=True)\n",
            "    (3): ReLU(inplace=True)\n",
            "    (4): Linear(in_features=274, out_features=361, bias=True)\n",
            "    (5): ReLU(inplace=True)\n",
            "    (6): Linear(in_features=361, out_features=448, bias=True)\n",
            "    (7): ReLU(inplace=True)\n",
            "    (8): Linear(in_features=448, out_features=535, bias=True)\n",
            "    (9): ReLU(inplace=True)\n",
            "    (10): Linear(in_features=535, out_features=622, bias=True)\n",
            "    (11): ReLU(inplace=True)\n",
            "    (12): Linear(in_features=622, out_features=709, bias=True)\n",
            "    (13): ReLU(inplace=True)\n",
            "    (14): Linear(in_features=709, out_features=796, bias=True)\n",
            "    (15): ReLU(inplace=True)\n",
            "    (16): Linear(in_features=796, out_features=883, bias=True)\n",
            "    (17): ReLU(inplace=True)\n",
            "    (18): Linear(in_features=883, out_features=978, bias=True)\n",
            "  )\n",
            ")\n",
            "\n",
            "training start at Fri Apr 16 08:21:35 2021  __________________________________________________\n",
            "__________________________________________________ \n",
            "Finished Training at Fri Apr 16 08:43:37 2021 \n",
            "total training time: 1322.66 s\n",
            "samples in training data: 82635 \n",
            "samples in validation data: 35415\n",
            "===============================\n",
            "ADAGE Network Architecture:\n",
            "~~~~~~~~~~~~~~~~~~~~~~~~~~~~~~~\n",
            "Adage_linear(\n",
            "  (encoder): Sequential(\n",
            "    (0): Linear(in_features=978, out_features=50, bias=True)\n",
            "    (1): ReLU(inplace=True)\n",
            "  )\n",
            "  (decoder): Sequential(\n",
            "    (0): Linear(in_features=50, out_features=978, bias=True)\n",
            "  )\n",
            ")\n",
            "\n",
            "training start at Fri Apr 16 08:43:41 2021  __________________________________________________\n",
            "__________________________________________________ \n",
            "Finished Training at Fri Apr 16 08:45:18 2021 \n",
            "total training time: 97.00 s\n",
            "===============================\n",
            "ADAGE Network Architecture:\n",
            "~~~~~~~~~~~~~~~~~~~~~~~~~~~~~~~\n",
            "Adage_linear(\n",
            "  (encoder): Sequential(\n",
            "    (0): Linear(in_features=978, out_features=50, bias=True)\n",
            "    (1): ReLU(inplace=True)\n",
            "  )\n",
            "  (decoder): Sequential(\n",
            "    (0): Linear(in_features=50, out_features=235, bias=True)\n",
            "    (1): ReLU(inplace=True)\n",
            "    (2): Linear(in_features=235, out_features=420, bias=True)\n",
            "    (3): ReLU(inplace=True)\n",
            "    (4): Linear(in_features=420, out_features=605, bias=True)\n",
            "    (5): ReLU(inplace=True)\n",
            "    (6): Linear(in_features=605, out_features=790, bias=True)\n",
            "    (7): ReLU(inplace=True)\n",
            "    (8): Linear(in_features=790, out_features=978, bias=True)\n",
            "  )\n",
            ")\n",
            "\n",
            "training start at Fri Apr 16 08:45:18 2021  __________________________________________________\n",
            "__________________________________________________ \n",
            "Finished Training at Fri Apr 16 08:55:31 2021 \n",
            "total training time: 612.42 s\n",
            "===============================\n",
            "ADAGE Network Architecture:\n",
            "~~~~~~~~~~~~~~~~~~~~~~~~~~~~~~~\n",
            "Adage_linear(\n",
            "  (encoder): Sequential(\n",
            "    (0): Linear(in_features=978, out_features=50, bias=True)\n",
            "    (1): ReLU(inplace=True)\n",
            "  )\n",
            "  (decoder): Sequential(\n",
            "    (0): Linear(in_features=50, out_features=142, bias=True)\n",
            "    (1): ReLU(inplace=True)\n",
            "    (2): Linear(in_features=142, out_features=234, bias=True)\n",
            "    (3): ReLU(inplace=True)\n",
            "    (4): Linear(in_features=234, out_features=326, bias=True)\n",
            "    (5): ReLU(inplace=True)\n",
            "    (6): Linear(in_features=326, out_features=418, bias=True)\n",
            "    (7): ReLU(inplace=True)\n",
            "    (8): Linear(in_features=418, out_features=510, bias=True)\n",
            "    (9): ReLU(inplace=True)\n",
            "    (10): Linear(in_features=510, out_features=602, bias=True)\n",
            "    (11): ReLU(inplace=True)\n",
            "    (12): Linear(in_features=602, out_features=694, bias=True)\n",
            "    (13): ReLU(inplace=True)\n",
            "    (14): Linear(in_features=694, out_features=786, bias=True)\n",
            "    (15): ReLU(inplace=True)\n",
            "    (16): Linear(in_features=786, out_features=878, bias=True)\n",
            "    (17): ReLU(inplace=True)\n",
            "    (18): Linear(in_features=878, out_features=978, bias=True)\n",
            "  )\n",
            ")\n",
            "\n",
            "training start at Fri Apr 16 08:55:31 2021  __________________________________________________\n",
            "__________________________________________________ \n",
            "Finished Training at Fri Apr 16 09:16:24 2021 \n",
            "total training time: 1253.51 s\n",
            "===============================\n",
            "ADAGE Network Architecture:\n",
            "~~~~~~~~~~~~~~~~~~~~~~~~~~~~~~~\n",
            "Adage_linear(\n",
            "  (encoder): Sequential(\n",
            "    (0): Linear(in_features=978, out_features=100, bias=True)\n",
            "    (1): ReLU(inplace=True)\n",
            "  )\n",
            "  (decoder): Sequential(\n",
            "    (0): Linear(in_features=100, out_features=978, bias=True)\n",
            "  )\n",
            ")\n",
            "\n",
            "training start at Fri Apr 16 09:16:25 2021  __________________________________________________\n",
            "__________________________________________________ \n",
            "Finished Training at Fri Apr 16 09:18:12 2021 \n",
            "total training time: 107.72 s\n",
            "===============================\n",
            "ADAGE Network Architecture:\n",
            "~~~~~~~~~~~~~~~~~~~~~~~~~~~~~~~\n",
            "Adage_linear(\n",
            "  (encoder): Sequential(\n",
            "    (0): Linear(in_features=978, out_features=100, bias=True)\n",
            "    (1): ReLU(inplace=True)\n",
            "  )\n",
            "  (decoder): Sequential(\n",
            "    (0): Linear(in_features=100, out_features=275, bias=True)\n",
            "    (1): ReLU(inplace=True)\n",
            "    (2): Linear(in_features=275, out_features=450, bias=True)\n",
            "    (3): ReLU(inplace=True)\n",
            "    (4): Linear(in_features=450, out_features=625, bias=True)\n",
            "    (5): ReLU(inplace=True)\n",
            "    (6): Linear(in_features=625, out_features=800, bias=True)\n",
            "    (7): ReLU(inplace=True)\n",
            "    (8): Linear(in_features=800, out_features=978, bias=True)\n",
            "  )\n",
            ")\n",
            "\n",
            "training start at Fri Apr 16 09:18:13 2021  __________________________________________________\n",
            "__________________________________________________ \n",
            "Finished Training at Fri Apr 16 09:29:07 2021 \n",
            "total training time: 654.69 s\n",
            "===============================\n",
            "ADAGE Network Architecture:\n",
            "~~~~~~~~~~~~~~~~~~~~~~~~~~~~~~~\n",
            "Adage_linear(\n",
            "  (encoder): Sequential(\n",
            "    (0): Linear(in_features=978, out_features=100, bias=True)\n",
            "    (1): ReLU(inplace=True)\n",
            "  )\n",
            "  (decoder): Sequential(\n",
            "    (0): Linear(in_features=100, out_features=187, bias=True)\n",
            "    (1): ReLU(inplace=True)\n",
            "    (2): Linear(in_features=187, out_features=274, bias=True)\n",
            "    (3): ReLU(inplace=True)\n",
            "    (4): Linear(in_features=274, out_features=361, bias=True)\n",
            "    (5): ReLU(inplace=True)\n",
            "    (6): Linear(in_features=361, out_features=448, bias=True)\n",
            "    (7): ReLU(inplace=True)\n",
            "    (8): Linear(in_features=448, out_features=535, bias=True)\n",
            "    (9): ReLU(inplace=True)\n",
            "    (10): Linear(in_features=535, out_features=622, bias=True)\n",
            "    (11): ReLU(inplace=True)\n",
            "    (12): Linear(in_features=622, out_features=709, bias=True)\n",
            "    (13): ReLU(inplace=True)\n",
            "    (14): Linear(in_features=709, out_features=796, bias=True)\n",
            "    (15): ReLU(inplace=True)\n",
            "    (16): Linear(in_features=796, out_features=883, bias=True)\n",
            "    (17): ReLU(inplace=True)\n",
            "    (18): Linear(in_features=883, out_features=978, bias=True)\n",
            "  )\n",
            ")\n",
            "\n",
            "training start at Fri Apr 16 09:29:08 2021  __________________________________________________\n",
            "__________________________________________________ \n",
            "Finished Training at Fri Apr 16 09:51:11 2021 \n",
            "total training time: 1322.95 s\n"
          ],
          "name": "stdout"
        },
        {
          "output_type": "display_data",
          "data": {
            "image/png": "[encoded data removed]",
            "text/plain": [
              "<Figure size 432x288 with 1 Axes>"
            ]
          },
          "metadata": {
            "tags": [],
            "needs_background": "light"
          }
        }
      ]
    },
    {
      "cell_type": "markdown",
      "metadata": {
        "id": "1lkEx4-iIKIk"
      },
      "source": [
        "## Auto run for evaluating STRING interactions within gene sets:\n",
        "\n",
        "1. function to compare STRING interactions with random gene interactions"
      ]
    },
    {
      "cell_type": "code",
      "metadata": {
        "id": "CG_KXjn8T8_O"
      },
      "source": [
        "from scipy import stats\n",
        "def STRINGdb_compare(HWgene, random_genes, work_dir, model_name_epoch):\n",
        "    HWgene['STRING_ID'] = [STRINGID_dict[s] for s in HWgene['pr_gene_symbol'].to_list()]\n",
        "    total_interactions = extract_STRINGinteractions(HWgene,  save=True, save_path= f'{work_dir}/trained_model/{model_name_epoch}_HWgene_stringdb_records.txt')\n",
        "    random_gene_interaction = extract_STRINGinteractions(random_genes,save=True,save_path=f'{work_dir}/trained_model/{model_name_epoch}_random_landmark_stringdb_records.txt')\n",
        "\n",
        "    ## plot the number of interactions \n",
        "    rdata = random_gene_interaction.node_id.value_counts()\n",
        "    hdata = total_interactions.node_id.value_counts()\n",
        "    # perform t-test\n",
        "    t, p = stats.ttest_ind(rdata, hdata)\n",
        "    #print('\\n\\nt-test p =', p)\n",
        "\n",
        "    plt.close()\n",
        "    data = [rdata, hdata]\n",
        "    fig, ax = plt.subplots()\n",
        "    ax.set_title(f'number of STRING DB interactions within one gene set\\nt-test p ={p}')\n",
        "    ax.set_xticklabels(['random gene set','high-weight gene set'])\n",
        "    ax.boxplot(data)\n",
        "    plt.savefig(f'{work_dir}/trained_model/{model_name_epoch}_stringdb_interaction_number.pdf')\n",
        "\n",
        "    ## plot combined_score of interactions\n",
        "\n",
        "    rdata2 = [random_gene_interaction.loc[random_gene_interaction.node_id == i].combined_score.mean() for i in range(50)]   # average combined_score for each node\n",
        "    hdata2 = [total_interactions.loc[total_interactions.node_id == i].combined_score.mean() for i in range(50)]  # average combined_score for each node\n",
        "    # perform t-test\n",
        "    t2, p2 = stats.ttest_ind(rdata2, hdata2)\n",
        "    \n",
        "    plt.close()\n",
        "    data2 = [rdata2, hdata2]\n",
        "    fig, ax = plt.subplots()\n",
        "    ax.set_title(f'STRING DB score of interactions\\nt-test p ={p2}')\n",
        "    ax.set_xticklabels(['random gene set','high-weight gene set'])\n",
        "    ax.boxplot(data2)\n",
        "    plt.savefig(f'{work_dir}/trained_model/{model_name_epoch}_stringdb_interaction_score.pdf')\n"
      ],
      "execution_count": null,
      "outputs": []
    },
    {
      "cell_type": "code",
      "metadata": {
        "colab": {
          "base_uri": "https://localhost:8080/",
          "height": 204
        },
        "id": "8UKbpfy9MUaI",
        "outputId": "ff29a038-71bd-4397-ce58-045d143e356f"
      },
      "source": [
        "## load stringdb ID dictionary\n",
        "with open(f'{work_dir}/landmark_gene_STRING_ID.txt') as f:\n",
        "    for line in f:\n",
        "        (key, val) = line[:-1].split('\\t')\n",
        "        STRINGID_dict[key] = val\n",
        "## load stringdb interactions\n",
        "stringdb = pd.read_csv(f'{work_dir}/9606.protein.links.v11.0.txt', sep=' ') \n",
        "stringdb.head()"
      ],
      "execution_count": null,
      "outputs": [
        {
          "output_type": "execute_result",
          "data": {
            "text/html": [
              "<div>\n",
              "<style scoped>\n",
              "    .dataframe tbody tr th:only-of-type {\n",
              "        vertical-align: middle;\n",
              "    }\n",
              "\n",
              "    .dataframe tbody tr th {\n",
              "        vertical-align: top;\n",
              "    }\n",
              "\n",
              "    .dataframe thead th {\n",
              "        text-align: right;\n",
              "    }\n",
              "</style>\n",
              "<table border=\"1\" class=\"dataframe\">\n",
              "  <thead>\n",
              "    <tr style=\"text-align: right;\">\n",
              "      <th></th>\n",
              "      <th>protein1</th>\n",
              "      <th>protein2</th>\n",
              "      <th>combined_score</th>\n",
              "    </tr>\n",
              "  </thead>\n",
              "  <tbody>\n",
              "    <tr>\n",
              "      <th>0</th>\n",
              "      <td>9606.ENSP00000000233</td>\n",
              "      <td>9606.ENSP00000272298</td>\n",
              "      <td>490</td>\n",
              "    </tr>\n",
              "    <tr>\n",
              "      <th>1</th>\n",
              "      <td>9606.ENSP00000000233</td>\n",
              "      <td>9606.ENSP00000253401</td>\n",
              "      <td>198</td>\n",
              "    </tr>\n",
              "    <tr>\n",
              "      <th>2</th>\n",
              "      <td>9606.ENSP00000000233</td>\n",
              "      <td>9606.ENSP00000401445</td>\n",
              "      <td>159</td>\n",
              "    </tr>\n",
              "    <tr>\n",
              "      <th>3</th>\n",
              "      <td>9606.ENSP00000000233</td>\n",
              "      <td>9606.ENSP00000418915</td>\n",
              "      <td>606</td>\n",
              "    </tr>\n",
              "    <tr>\n",
              "      <th>4</th>\n",
              "      <td>9606.ENSP00000000233</td>\n",
              "      <td>9606.ENSP00000327801</td>\n",
              "      <td>167</td>\n",
              "    </tr>\n",
              "  </tbody>\n",
              "</table>\n",
              "</div>"
            ],
            "text/plain": [
              "               protein1              protein2  combined_score\n",
              "0  9606.ENSP00000000233  9606.ENSP00000272298             490\n",
              "1  9606.ENSP00000000233  9606.ENSP00000253401             198\n",
              "2  9606.ENSP00000000233  9606.ENSP00000401445             159\n",
              "3  9606.ENSP00000000233  9606.ENSP00000418915             606\n",
              "4  9606.ENSP00000000233  9606.ENSP00000327801             167"
            ]
          },
          "metadata": {
            "tags": []
          },
          "execution_count": 25
        }
      ]
    },
    {
      "cell_type": "markdown",
      "metadata": {
        "id": "NTxGD1PPTifD"
      },
      "source": [
        "2. loop to run different comparisons\n",
        "\n"
      ]
    },
    {
      "cell_type": "code",
      "metadata": {
        "id": "YYrA5auhFuNC"
      },
      "source": [
        "## evaluate interactions in each gene set\n",
        "# load trained model\n",
        "epoch_n = 5000\n",
        "\n",
        "for trial in ['trial1','trial2','trial3','noise_trial1','noise_trial2','noise_trial3']:\n",
        "    for node_n in [50, 100]:\n",
        "        for layers in [1, 5, 10]:\n",
        "\n",
        "            model_name_epoch=f\"{trial}/{layers}layers_{node_n}nodes_allsample_landmark_gene/epoch{epoch_n}\"\n",
        "            DA = Adage_linear(train_data.shape[1], node_number=node_n, decoder_layers = layers)\n",
        "            DA.load_state_dict(torch.load(f'{work_dir}/trained_model/{model_name_epoch}'))\n",
        "\n",
        "            # extract high weight gene\n",
        "            HWgene = extract_high_weight_gene(DA)\n",
        "            HWgene['STRING_ID'] = [STRINGID_dict[s] for s in HWgene['pr_gene_symbol'].to_list()]\n",
        "\n",
        "            # matplotlib histogram\n",
        "            t_weight = DA.encoder[0].weight\n",
        "            node_num = t_weight.shape[0]\n",
        "\n",
        "            w_mean = t_weight.mean(dim=1).reshape(t_weight.shape[0],1)\n",
        "            w_std = t_weight.std(dim=1).reshape(t_weight.shape[0],1)\n",
        "\n",
        "            plt.figure(figsize=(32,node_num))\n",
        "            for i in range(node_num):\n",
        "                hwgene_num = len(HWgene.loc[HWgene.node_id == i].index)\n",
        "\n",
        "                ax = plt.subplot(node_num/5, 5, i + 1)\n",
        "                ax.hist(t_weight[i].tolist(), color = '#56B4E9', edgecolor = 'white',bins = int(80))\n",
        "                ax.vlines([(w_mean-2*w_std)[i].item(),(w_mean+2*w_std)[i].item()], ymin=0, ymax=50, colors= 'red')\n",
        "                ax.vlines(w_mean[i].item(), ymin=0, ymax=50, colors= 'red',linestyles='dashed')\n",
        "                # Add labels\n",
        "                ax.set_title(f'weight distribution from node #{i}\\n number of high-weight genes: {hwgene_num}')\n",
        "                ax.set_xlabel('gene weight')\n",
        "                ax.set_ylabel('genes')\n",
        "\n",
        "            plt.tight_layout()\n",
        "            plt.savefig(f\"{work_dir}/trained_model/{trial}/{layers}layers_{node_n}nodes_allsample_landmark_gene/epoch{epoch_n}_weight_distribution.pdf\")\n",
        "            plt.close()\n",
        "\n",
        "            # generate random gene set\n",
        "            import random\n",
        "            L1000gene = landmark_gene_list['pr_gene_symbol'].to_list()\n",
        "            random_gene_list = []\n",
        "            for i in HWgene['node_id'].unique():\n",
        "                gene_number = HWgene.node_id.value_counts()[i]\n",
        "                random_gene = random.sample(L1000gene, gene_number)\n",
        "                random_gene_stringID = [STRINGID_dict[s] for s in random_gene]\n",
        "                random_df = pd.DataFrame([(x[0],x[1],i) for x in zip(random_gene,random_gene_stringID)], columns=['pr_gene_symbol','STRING_ID','node_id'])\n",
        "                random_gene_list.append(random_df)\n",
        "            random_genes = pd.concat(random_gene_list)\n",
        "            random_genes.to_csv(f'{work_dir}/trained_model/{model_name_epoch}_random_landmark_genes.txt',sep='\\t',index=False)\n",
        "            random_genes.head()\n",
        "\n",
        "            # compare the interactions\n",
        "            STRINGdb_compare(HWgene, random_genes, work_dir, model_name_epoch)\n",
        "    \n"
      ],
      "execution_count": null,
      "outputs": []
    },
    {
      "cell_type": "markdown",
      "metadata": {
        "id": "t42lElxXmDPJ"
      },
      "source": [
        "## Calculate $r^2$ score"
      ]
    },
    {
      "cell_type": "code",
      "metadata": {
        "colab": {
          "base_uri": "https://localhost:8080/",
          "height": 1000
        },
        "id": "dWuFTL1lSRJm",
        "outputId": "cefb713a-c940-49df-9716-539f0f5a8142"
      },
      "source": [
        "epoch_n = 5000\n",
        "\n",
        "r2_dict = {}\n",
        "\n",
        "for trial in ['trial1','trial2','trial3','noise_trial1','noise_trial2','noise_trial3']:\n",
        "    valid_data = np.load(f'drive/MyDrive/AIforGenomics2021/ADAGE/trained_model/{trial}/valid_data_allsample_landmark_gene.npy')\n",
        "    r2_dict[trial] = {}\n",
        "    for node_n in [50, 100]:\n",
        "        r2_dict[trial][node_n] = []\n",
        "        for layers in [1, 5, 10]:\n",
        "            # calculate r2 per gene to show relation between original gene expression and reconstruct gene expression\n",
        "            model_name_epoch=f\"{trial}/{layers}layers_{node_n}nodes_allsample_landmark_gene/epoch{epoch_n}\"\n",
        "            DA = Adage_linear(train_data.shape[1], node_number=node_n, decoder_layers = layers)\n",
        "            DA.load_state_dict(torch.load(f'{work_dir}/trained_model/{model_name_epoch}'))\n",
        "\n",
        "            valid_data_ = DA(torch.tensor(valid_data).float()).detach().numpy()\n",
        "\n",
        "            r2_score_record = []\n",
        "            for g in range(valid_data.shape[1]):\n",
        "                r2_score_record.append(r2_score(valid_data[:,g], valid_data_[:,g]))\n",
        "            r2_mean = sum(r2_score_record)/len(r2_score_record)\n",
        "            print('===',model_name_epoch)\n",
        "            print('average r2 score on valid dataset:',r2_mean)\n",
        "            r2_dict[trial][node_n].append(r2_mean)\n",
        "\n",
        "            %matplotlib inline\n",
        "            plt.figure(figsize=(5,5))\n",
        "            ax = plt.subplot(1, 1, 1)\n",
        "            ax.hist(r2_score_record, color = '#56B4E9', edgecolor = 'white',bins = int(80))\n",
        "            ax.vlines(sum(r2_score_record)/978, ymin=0, ymax=50, colors= 'red',linestyles='dashed')\n",
        "            # Add labels\n",
        "            ax.set_title(f'single gene r2 distribution')\n",
        "            ax.set_xlabel('r2_score')\n",
        "            ax.set_ylabel('genes')\n",
        "            plt.show()\n",
        "            plt.savefig(f'{work_dir}/trained_model/{model_name_epoch}_valid_r2_distribution.pdf')\n",
        "            plt.close()\n",
        "\n",
        "            with open(f'{work_dir}/trained_model/{model_name_epoch}.tsv','w+') as f:\n",
        "                f.write('gene\\tr2_score\\n')\n",
        "                for i in range(len(r2_score_record)):\n",
        "                    f.write(f'{landmark_gene_list.iloc[i].pr_gene_symbol}\\t{r2_score_record[i]}\\n')\n"
      ],
      "execution_count": null,
      "outputs": [
        {
          "output_type": "stream",
          "text": [
            "=== trial1/1layers_50nodes_allsample_landmark_gene/epoch5000\n",
            "average r2 score on valid dataset: 0.49272635308330837\n"
          ],
          "name": "stdout"
        },
        {
          "output_type": "display_data",
          "data": {
            "image/png": "[encoded data removed]",
            "text/plain": [
              "<Figure size 360x360 with 1 Axes>"
            ]
          },
          "metadata": {
            "tags": [],
            "needs_background": "light"
          }
        },
        {
          "output_type": "stream",
          "text": [
            "=== trial1/5layers_50nodes_allsample_landmark_gene/epoch5000\n",
            "average r2 score on valid dataset: 0.47049371842292237\n"
          ],
          "name": "stdout"
        },
        {
          "output_type": "display_data",
          "data": {
            "image/png": "[encoded data removed]",
            "text/plain": [
              "<Figure size 360x360 with 1 Axes>"
            ]
          },
          "metadata": {
            "tags": [],
            "needs_background": "light"
          }
        },
        {
          "output_type": "stream",
          "text": [
            "=== trial1/10layers_50nodes_allsample_landmark_gene/epoch5000\n",
            "average r2 score on valid dataset: 0.3681148543049696\n"
          ],
          "name": "stdout"
        },
        {
          "output_type": "display_data",
          "data": {
            "image/png": "[encoded data removed]",
            "text/plain": [
              "<Figure size 360x360 with 1 Axes>"
            ]
          },
          "metadata": {
            "tags": [],
            "needs_background": "light"
          }
        },
        {
          "output_type": "stream",
          "text": [
            "=== trial1/1layers_100nodes_allsample_landmark_gene/epoch5000\n",
            "average r2 score on valid dataset: 0.544227006884306\n"
          ],
          "name": "stdout"
        },
        {
          "output_type": "display_data",
          "data": {
            "image/png": "[encoded data removed]",
            "text/plain": [
              "<Figure size 360x360 with 1 Axes>"
            ]
          },
          "metadata": {
            "tags": [],
            "needs_background": "light"
          }
        },
        {
          "output_type": "stream",
          "text": [
            "=== trial1/5layers_100nodes_allsample_landmark_gene/epoch5000\n",
            "average r2 score on valid dataset: 0.47322029221943546\n"
          ],
          "name": "stdout"
        },
        {
          "output_type": "display_data",
          "data": {
            "image/png": "[encoded data removed]",
            "text/plain": [
              "<Figure size 360x360 with 1 Axes>"
            ]
          },
          "metadata": {
            "tags": [],
            "needs_background": "light"
          }
        },
        {
          "output_type": "stream",
          "text": [
            "=== trial1/10layers_100nodes_allsample_landmark_gene/epoch5000\n",
            "average r2 score on valid dataset: 0.37896883352773164\n"
          ],
          "name": "stdout"
        },
        {
          "output_type": "display_data",
          "data": {
            "image/png": "[encoded data removed]",
            "text/plain": [
              "<Figure size 360x360 with 1 Axes>"
            ]
          },
          "metadata": {
            "tags": [],
            "needs_background": "light"
          }
        },
        {
          "output_type": "stream",
          "text": [
            "=== trial2/1layers_50nodes_allsample_landmark_gene/epoch5000\n",
            "average r2 score on valid dataset: 0.4816234474319709\n"
          ],
          "name": "stdout"
        },
        {
          "output_type": "display_data",
          "data": {
            "image/png": "[encoded data removed]",
            "text/plain": [
              "<Figure size 360x360 with 1 Axes>"
            ]
          },
          "metadata": {
            "tags": [],
            "needs_background": "light"
          }
        },
        {
          "output_type": "stream",
          "text": [
            "=== trial2/5layers_50nodes_allsample_landmark_gene/epoch5000\n",
            "average r2 score on valid dataset: 0.4652604828859224\n"
          ],
          "name": "stdout"
        },
        {
          "output_type": "display_data",
          "data": {
            "image/png": "[encoded data removed]",
            "text/plain": [
              "<Figure size 360x360 with 1 Axes>"
            ]
          },
          "metadata": {
            "tags": [],
            "needs_background": "light"
          }
        },
        {
          "output_type": "stream",
          "text": [
            "=== trial2/10layers_50nodes_allsample_landmark_gene/epoch5000\n",
            "average r2 score on valid dataset: 0.3330795839557285\n"
          ],
          "name": "stdout"
        },
        {
          "output_type": "display_data",
          "data": {
            "image/png": "[encoded data removed]",
            "text/plain": [
              "<Figure size 360x360 with 1 Axes>"
            ]
          },
          "metadata": {
            "tags": [],
            "needs_background": "light"
          }
        },
        {
          "output_type": "stream",
          "text": [
            "=== trial2/1layers_100nodes_allsample_landmark_gene/epoch5000\n",
            "average r2 score on valid dataset: 0.5388968011509241\n"
          ],
          "name": "stdout"
        },
        {
          "output_type": "display_data",
          "data": {
            "image/png": "[encoded data removed]",
            "text/plain": [
              "<Figure size 360x360 with 1 Axes>"
            ]
          },
          "metadata": {
            "tags": [],
            "needs_background": "light"
          }
        },
        {
          "output_type": "stream",
          "text": [
            "=== trial2/5layers_100nodes_allsample_landmark_gene/epoch5000\n",
            "average r2 score on valid dataset: 0.47707525549874347\n"
          ],
          "name": "stdout"
        },
        {
          "output_type": "display_data",
          "data": {
            "image/png": "[encoded data removed]",
            "text/plain": [
              "<Figure size 360x360 with 1 Axes>"
            ]
          },
          "metadata": {
            "tags": [],
            "needs_background": "light"
          }
        },
        {
          "output_type": "stream",
          "text": [
            "=== trial2/10layers_100nodes_allsample_landmark_gene/epoch5000\n",
            "average r2 score on valid dataset: 0.3755756724533088\n"
          ],
          "name": "stdout"
        },
        {
          "output_type": "display_data",
          "data": {
            "image/png": "[encoded data removed]",
            "text/plain": [
              "<Figure size 360x360 with 1 Axes>"
            ]
          },
          "metadata": {
            "tags": [],
            "needs_background": "light"
          }
        },
        {
          "output_type": "stream",
          "text": [
            "=== trial3/1layers_50nodes_allsample_landmark_gene/epoch5000\n",
            "average r2 score on valid dataset: 0.4887399517295668\n"
          ],
          "name": "stdout"
        },
        {
          "output_type": "display_data",
          "data": {
            "image/png": "[encoded data removed]",
            "text/plain": [
              "<Figure size 360x360 with 1 Axes>"
            ]
          },
          "metadata": {
            "tags": [],
            "needs_background": "light"
          }
        },
        {
          "output_type": "stream",
          "text": [
            "=== trial3/5layers_50nodes_allsample_landmark_gene/epoch5000\n",
            "average r2 score on valid dataset: 0.4786182214289981\n"
          ],
          "name": "stdout"
        },
        {
          "output_type": "display_data",
          "data": {
            "image/png": "[encoded data removed]",
            "text/plain": [
              "<Figure size 360x360 with 1 Axes>"
            ]
          },
          "metadata": {
            "tags": [],
            "needs_background": "light"
          }
        },
        {
          "output_type": "stream",
          "text": [
            "=== trial3/10layers_50nodes_allsample_landmark_gene/epoch5000\n",
            "average r2 score on valid dataset: 0.3701592248622593\n"
          ],
          "name": "stdout"
        },
        {
          "output_type": "display_data",
          "data": {
            "image/png": "[encoded data removed]",
            "text/plain": [
              "<Figure size 360x360 with 1 Axes>"
            ]
          },
          "metadata": {
            "tags": [],
            "needs_background": "light"
          }
        },
        {
          "output_type": "stream",
          "text": [
            "=== trial3/1layers_100nodes_allsample_landmark_gene/epoch5000\n",
            "average r2 score on valid dataset: 0.5514416238570417\n"
          ],
          "name": "stdout"
        },
        {
          "output_type": "display_data",
          "data": {
            "image/png": "[encoded data removed]",
            "text/plain": [
              "<Figure size 360x360 with 1 Axes>"
            ]
          },
          "metadata": {
            "tags": [],
            "needs_background": "light"
          }
        },
        {
          "output_type": "stream",
          "text": [
            "=== trial3/5layers_100nodes_allsample_landmark_gene/epoch5000\n",
            "average r2 score on valid dataset: 0.46940779324714443\n"
          ],
          "name": "stdout"
        },
        {
          "output_type": "display_data",
          "data": {
            "image/png": "[encoded data removed]",
            "text/plain": [
              "<Figure size 360x360 with 1 Axes>"
            ]
          },
          "metadata": {
            "tags": [],
            "needs_background": "light"
          }
        },
        {
          "output_type": "stream",
          "text": [
            "=== trial3/10layers_100nodes_allsample_landmark_gene/epoch5000\n",
            "average r2 score on valid dataset: 0.34156932881356383\n"
          ],
          "name": "stdout"
        },
        {
          "output_type": "display_data",
          "data": {
            "image/png": "[encoded data removed]",
            "text/plain": [
              "<Figure size 360x360 with 1 Axes>"
            ]
          },
          "metadata": {
            "tags": [],
            "needs_background": "light"
          }
        },
        {
          "output_type": "stream",
          "text": [
            "=== noise_trial1/1layers_50nodes_allsample_landmark_gene/epoch5000\n",
            "average r2 score on valid dataset: 0.48743127293801336\n"
          ],
          "name": "stdout"
        },
        {
          "output_type": "display_data",
          "data": {
            "image/png": "[encoded data removed]",
            "text/plain": [
              "<Figure size 360x360 with 1 Axes>"
            ]
          },
          "metadata": {
            "tags": [],
            "needs_background": "light"
          }
        },
        {
          "output_type": "stream",
          "text": [
            "=== noise_trial1/5layers_50nodes_allsample_landmark_gene/epoch5000\n",
            "average r2 score on valid dataset: 0.47053734410631304\n"
          ],
          "name": "stdout"
        },
        {
          "output_type": "display_data",
          "data": {
            "image/png": "[encoded data removed]",
            "text/plain": [
              "<Figure size 360x360 with 1 Axes>"
            ]
          },
          "metadata": {
            "tags": [],
            "needs_background": "light"
          }
        },
        {
          "output_type": "stream",
          "text": [
            "=== noise_trial1/10layers_50nodes_allsample_landmark_gene/epoch5000\n",
            "average r2 score on valid dataset: 0.3749939934566708\n"
          ],
          "name": "stdout"
        },
        {
          "output_type": "display_data",
          "data": {
            "image/png": "[encoded data removed]",
            "text/plain": [
              "<Figure size 360x360 with 1 Axes>"
            ]
          },
          "metadata": {
            "tags": [],
            "needs_background": "light"
          }
        },
        {
          "output_type": "stream",
          "text": [
            "=== noise_trial1/1layers_100nodes_allsample_landmark_gene/epoch5000\n",
            "average r2 score on valid dataset: 0.5395252340472297\n"
          ],
          "name": "stdout"
        },
        {
          "output_type": "display_data",
          "data": {
            "image/png": "[encoded data removed]",
            "text/plain": [
              "<Figure size 360x360 with 1 Axes>"
            ]
          },
          "metadata": {
            "tags": [],
            "needs_background": "light"
          }
        },
        {
          "output_type": "stream",
          "text": [
            "=== noise_trial1/5layers_100nodes_allsample_landmark_gene/epoch5000\n",
            "average r2 score on valid dataset: 0.4713657698389191\n"
          ],
          "name": "stdout"
        },
        {
          "output_type": "display_data",
          "data": {
            "image/png": "[encoded data removed]",
            "text/plain": [
              "<Figure size 360x360 with 1 Axes>"
            ]
          },
          "metadata": {
            "tags": [],
            "needs_background": "light"
          }
        },
        {
          "output_type": "stream",
          "text": [
            "=== noise_trial1/10layers_100nodes_allsample_landmark_gene/epoch5000\n",
            "average r2 score on valid dataset: 0.30603452707684725\n"
          ],
          "name": "stdout"
        },
        {
          "output_type": "display_data",
          "data": {
            "image/png": "[encoded data removed]",
            "text/plain": [
              "<Figure size 360x360 with 1 Axes>"
            ]
          },
          "metadata": {
            "tags": [],
            "needs_background": "light"
          }
        },
        {
          "output_type": "stream",
          "text": [
            "=== noise_trial2/1layers_50nodes_allsample_landmark_gene/epoch5000\n",
            "average r2 score on valid dataset: 0.4852907946932625\n"
          ],
          "name": "stdout"
        },
        {
          "output_type": "display_data",
          "data": {
            "image/png": "[encoded data removed]",
            "text/plain": [
              "<Figure size 360x360 with 1 Axes>"
            ]
          },
          "metadata": {
            "tags": [],
            "needs_background": "light"
          }
        },
        {
          "output_type": "stream",
          "text": [
            "=== noise_trial2/5layers_50nodes_allsample_landmark_gene/epoch5000\n",
            "average r2 score on valid dataset: 0.47528025277399466\n"
          ],
          "name": "stdout"
        },
        {
          "output_type": "display_data",
          "data": {
            "image/png": "[encoded data removed]",
            "text/plain": [
              "<Figure size 360x360 with 1 Axes>"
            ]
          },
          "metadata": {
            "tags": [],
            "needs_background": "light"
          }
        },
        {
          "output_type": "stream",
          "text": [
            "=== noise_trial2/10layers_50nodes_allsample_landmark_gene/epoch5000\n",
            "average r2 score on valid dataset: 0.3573022610494219\n"
          ],
          "name": "stdout"
        },
        {
          "output_type": "display_data",
          "data": {
            "image/png": "[encoded data removed]",
            "text/plain": [
              "<Figure size 360x360 with 1 Axes>"
            ]
          },
          "metadata": {
            "tags": [],
            "needs_background": "light"
          }
        },
        {
          "output_type": "stream",
          "text": [
            "=== noise_trial2/1layers_100nodes_allsample_landmark_gene/epoch5000\n",
            "average r2 score on valid dataset: 0.5378463453326968\n"
          ],
          "name": "stdout"
        },
        {
          "output_type": "display_data",
          "data": {
            "image/png": "[encoded data removed]",
            "text/plain": [
              "<Figure size 360x360 with 1 Axes>"
            ]
          },
          "metadata": {
            "tags": [],
            "needs_background": "light"
          }
        },
        {
          "output_type": "stream",
          "text": [
            "=== noise_trial2/5layers_100nodes_allsample_landmark_gene/epoch5000\n",
            "average r2 score on valid dataset: 0.47458709988960057\n"
          ],
          "name": "stdout"
        },
        {
          "output_type": "display_data",
          "data": {
            "image/png": "[encoded data removed]",
            "text/plain": [
              "<Figure size 360x360 with 1 Axes>"
            ]
          },
          "metadata": {
            "tags": [],
            "needs_background": "light"
          }
        },
        {
          "output_type": "stream",
          "text": [
            "=== noise_trial2/10layers_100nodes_allsample_landmark_gene/epoch5000\n",
            "average r2 score on valid dataset: 0.36130326136206464\n"
          ],
          "name": "stdout"
        },
        {
          "output_type": "display_data",
          "data": {
            "image/png": "[encoded data removed]",
            "text/plain": [
              "<Figure size 360x360 with 1 Axes>"
            ]
          },
          "metadata": {
            "tags": [],
            "needs_background": "light"
          }
        },
        {
          "output_type": "stream",
          "text": [
            "=== noise_trial3/1layers_50nodes_allsample_landmark_gene/epoch5000\n",
            "average r2 score on valid dataset: 0.468424316205941\n"
          ],
          "name": "stdout"
        },
        {
          "output_type": "display_data",
          "data": {
            "image/png": "[encoded data removed]",
            "text/plain": [
              "<Figure size 360x360 with 1 Axes>"
            ]
          },
          "metadata": {
            "tags": [],
            "needs_background": "light"
          }
        },
        {
          "output_type": "stream",
          "text": [
            "=== noise_trial3/5layers_50nodes_allsample_landmark_gene/epoch5000\n",
            "average r2 score on valid dataset: 0.47399751442903076\n"
          ],
          "name": "stdout"
        },
        {
          "output_type": "display_data",
          "data": {
            "image/png": "[encoded data removed]",
            "text/plain": [
              "<Figure size 360x360 with 1 Axes>"
            ]
          },
          "metadata": {
            "tags": [],
            "needs_background": "light"
          }
        },
        {
          "output_type": "stream",
          "text": [
            "=== noise_trial3/10layers_50nodes_allsample_landmark_gene/epoch5000\n",
            "average r2 score on valid dataset: 0.38563812450345764\n"
          ],
          "name": "stdout"
        },
        {
          "output_type": "display_data",
          "data": {
            "image/png": "[encoded data removed]",
            "text/plain": [
              "<Figure size 360x360 with 1 Axes>"
            ]
          },
          "metadata": {
            "tags": [],
            "needs_background": "light"
          }
        },
        {
          "output_type": "stream",
          "text": [
            "=== noise_trial3/1layers_100nodes_allsample_landmark_gene/epoch5000\n",
            "average r2 score on valid dataset: 0.5381147975703795\n"
          ],
          "name": "stdout"
        },
        {
          "output_type": "display_data",
          "data": {
            "image/png": "[encoded data removed]",
            "text/plain": [
              "<Figure size 360x360 with 1 Axes>"
            ]
          },
          "metadata": {
            "tags": [],
            "needs_background": "light"
          }
        },
        {
          "output_type": "stream",
          "text": [
            "=== noise_trial3/5layers_100nodes_allsample_landmark_gene/epoch5000\n",
            "average r2 score on valid dataset: 0.47964553746536753\n"
          ],
          "name": "stdout"
        },
        {
          "output_type": "display_data",
          "data": {
            "image/png": "[encoded data removed]",
            "text/plain": [
              "<Figure size 360x360 with 1 Axes>"
            ]
          },
          "metadata": {
            "tags": [],
            "needs_background": "light"
          }
        },
        {
          "output_type": "stream",
          "text": [
            "=== noise_trial3/10layers_100nodes_allsample_landmark_gene/epoch5000\n",
            "average r2 score on valid dataset: 0.3676184187809084\n"
          ],
          "name": "stdout"
        },
        {
          "output_type": "display_data",
          "data": {
            "image/png": "[encoded data removed]",
            "text/plain": [
              "<Figure size 360x360 with 1 Axes>"
            ]
          },
          "metadata": {
            "tags": [],
            "needs_background": "light"
          }
        }
      ]
    },
    {
      "cell_type": "code",
      "metadata": {
        "colab": {
          "base_uri": "https://localhost:8080/",
          "height": 298
        },
        "id": "plDl-JHPWCkO",
        "outputId": "68fce29a-6eb6-4a05-e596-02a74d0d6ddc"
      },
      "source": [
        "from statistics import mean, stdev\n",
        "\n",
        "plt.figure()\n",
        "\n",
        "for x in range(2):\n",
        "    node = [50, 100][x]\n",
        "    linestyle = ['solid','dashed'][x]\n",
        "    ave=[mean([r2_dict[f'trial{i}'][node][n] for i in [1,2,3]]) for n in range(3)]\n",
        "    stdev1=[stdev([r2_dict[f'trial{i}'][node][n] for i in range(1,4)]) for n in range(3)]\n",
        "    plt.errorbar([0, 1, 2], ave, yerr=stdev1, label=f'{node} nodes (- Noise)', color='blue',linestyle=linestyle, linewidth=1.5)\n",
        "\n",
        "    ave=[mean([r2_dict[f'noise_trial{i}'][node][n] for i in [1,2,3]]) for n in range(3)]\n",
        "    stdev2=[stdev([r2_dict[f'noise_trial{i}'][node][n] for i in range(1,4)]) for n in range(3)]\n",
        "    plt.errorbar([0, 1, 2], ave, yerr=stdev2, label=f'{node} nodes (+ Noise)', color='orange',linestyle=linestyle, linewidth=1.5)\n",
        "\n",
        "\n",
        "ticks = [0, 1, 2]\n",
        "labels = [\"1-layer\", \"5-layer\", \"10-layer\"]\n",
        "\n",
        "plt.xticks(ticks, labels)\n",
        "plt.title('Multi-layer decoder')\n",
        "plt.legend(loc=\"upper right\")\n",
        "plt.ylabel('r2 score')"
      ],
      "execution_count": null,
      "outputs": [
        {
          "output_type": "execute_result",
          "data": {
            "text/plain": [
              "Text(0, 0.5, 'r2 score')"
            ]
          },
          "metadata": {
            "tags": []
          },
          "execution_count": 30
        },
        {
          "output_type": "display_data",
          "data": {
            "image/png": "[encoded data removed]",
            "text/plain": [
              "<Figure size 432x288 with 1 Axes>"
            ]
          },
          "metadata": {
            "tags": [],
            "needs_background": "light"
          }
        }
      ]
    },
    {
      "cell_type": "code",
      "metadata": {
        "id": "uGtSKIKjWDvV"
      },
      "source": [
        ""
      ],
      "execution_count": null,
      "outputs": []
    }
  ]
}